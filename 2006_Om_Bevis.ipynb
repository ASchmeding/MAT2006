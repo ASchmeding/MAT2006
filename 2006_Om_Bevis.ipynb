{
 "cells": [
  {
   "cell_type": "markdown",
   "metadata": {},
   "source": [
    "# Om Bevis og argumentasjon\n",
    "\n",
    "I denne notaten skal vi se på bevis og argumentasjon i matematikk. Vi følger Matematikk 1T kapittel 1E."
   ]
  },
  {
   "cell_type": "markdown",
   "metadata": {},
   "source": [
    "#### Påstander\n",
    "I matematikk sier vi at en setning er en påstnd når det kan være sant eller usant. For eksempel er setning\n",
    "\n",
    "\"Jeg bor i Trondheim\" en påstand (sant eller usant avhengig av personen som sier det)\n",
    "\n",
    "men\n",
    "\n",
    "\"Trondheim?\" eller \"$5+7$\" er ikke påstander, mens $5+7=12$ eller $5+7=13$ er påstander."
   ]
  },
  {
   "cell_type": "markdown",
   "metadata": {},
   "source": [
    "Husk de følgende logiske symbolder:\n",
    "\n",
    "Hvis $A$ og $B$ er påstander så kan vi utrykke forhold mellom de to påstander på følgende måte:\n",
    "\n",
    "#### Implikasjon:  \n",
    "$A \\Rightarrow B$, betyr at hvis $A$ er sant, så er $B$ sant  \n",
    "$A \\Leftarrow B$, betyr hvis $B$ er sant, så er $A$ sant.\n",
    "\n",
    "#### Equivalens\n",
    "$A \\Leftrightarrow B$, betyr at hvis $A$ er sant så er $B$ sant og omvendt. Vi kan også si at $A$ er sant hvis og bare hvis $B$ er sant.  "
   ]
  },
  {
   "cell_type": "markdown",
   "metadata": {},
   "source": [
    "### Eksempler\n",
    "\n",
    "$A$: Per bor i Trondheim  \n",
    "$B$: Per bor i Norge  \n",
    "gjelder $A \\Rightarrow B$ siden Trondheim ligger i Norge, men siden man kan bo i Norge uten å bo i Trondheim, gjelder **ikke** $A \\Leftarrow B$ (eller ekvivalens).\n",
    "\n",
    "$C$: Et heltall $t$ er et partall.  \n",
    "$D$: Et heltall $t$ er delelig med $2$.  \n",
    "så gjelder $C \\Leftrightarrow D$."
   ]
  },
  {
   "cell_type": "markdown",
   "metadata": {},
   "source": [
    "### Oppgave Matematikk 1T 1.85\n",
    "Se på følgende par av matematiske påstander og avgjør hvis det fins en implikasjon eller ekvivalens mellom dem (løs på papir og sett inn $\\Rightarrow$, $\\Leftarrow$ eller $\\Leftrightarrow$ i rutene):\n",
    "\n",
    "1. $x = 5 \\quad \\fbox{$\\phantom{5}$} \\quad 2x = 10$\n",
    "2. $x^2 = 16 \\quad \\fbox{$\\phantom{5}$}\\quad x = 4$\n",
    "3. $x^2 =16 \\quad \\fbox{$\\phantom{5}$} \\quad x=4$ eller $x=-4$\n",
    "4. $x < 0\\quad \\fbox{$\\phantom{5}$} \\quad x\\cdot y < 0$\n",
    "5. ABCD er en kvadrat $\\quad \\fbox{$\\phantom{5}$}\\quad$ ABCD er en rektangel"
   ]
  },
  {
   "cell_type": "markdown",
   "metadata": {},
   "source": [
    "1. $x=5 \\quad \\Leftrightarrow \\quad 2x=10$\n",
    "2. $x^2=16 \\Leftarrow x=4$, Det gjelder ikke \"$x^2=16$ hvis og bare hvis $x=4$\" siden $x=-4$ også oppfyller $x^2=16$\n",
    "3. $x^2=16 \\Leftrightarrow x=4$ eller $x=-4$\n",
    "4. $x<0$ og $x \\cdot y < 0$ (vi vet ingenting om $y$, kunne være at $y \\geq 0$ eller $y < 0$), har ingen pil mellom seg siden vi vet ikke hva $y$ er, hvis $y<0$ gjelder begge retninger ikke, hvis $y>0$ gjelder det.\n",
    "5. ABCD er en kvadrat $\\Rightarrow$ ABCD er en rektangel"
   ]
  },
  {
   "cell_type": "markdown",
   "metadata": {},
   "source": [
    "### Ekvivalens vs. likhetstegn\n",
    "\n",
    "Det er viktig å forstår at ekvivalens betyr ikke det samme som en likhetstegn. En ekvivalens står mellom to påstander og betyr at de er likeverdi. Karakteristisk kjenntegn for påstander er at de kan være sant eller usant. \n",
    " \n",
    "Forklar hvorfor vi **kan ikke bruke** ekvivalens eller implikasjon på følgende måte:\n",
    "\n",
    "1. $5+7 \\Leftrightarrow 12$\n",
    "2. $x^2 \\Rightarrow x^2+1-1$"
   ]
  },
  {
   "cell_type": "markdown",
   "metadata": {},
   "source": [
    "**Plass for dine svar, dobbeltklikk her for å skrive noe**"
   ]
  },
  {
   "cell_type": "markdown",
   "metadata": {},
   "source": [
    "Siden vi snakker om ulovelig bruk av symboler. Likhetstegn **kan ikke brukes** på følgende måte\n",
    "$$5+7 = 12 - 8 + 17 = 21$$\n",
    "siden de sidene av likningene er ikke ekvivalent (eller likeverdi).\n",
    "Aldri bruk likhetstegn på den måten!"
   ]
  },
  {
   "cell_type": "markdown",
   "metadata": {},
   "source": [
    "## Om Bevis\n",
    "\n",
    "I matematikken bryr vi oss om argumentasjon og bevis, vi vil vite hvorfor noe er sant og hvis noe er alltid sant, eller hvis det fins tilfelle hvor en påstand er ikke sant. Det fins forskjellige typer bevis, noen av de enkle er *direkte* og *indirekte bevis*."
   ]
  },
  {
   "cell_type": "markdown",
   "metadata": {},
   "source": [
    "## Direkte bevis\n",
    "\n",
    "Vi begynner med en påstand som vi vet er sant og jobber oss frem ved hjelp av implikasjoner til en påstand vi ønsker å bevise.\n",
    "\n",
    "#### Eksempel (summen av to partall er et partall)\n",
    "\n",
    "Vi skal vise at summen av to partall $p,q$ er igjen et partall.\n",
    "\n",
    "**Bevis:** Siden $p,q$ er partall vet vi at vi kan skrive dem som $p=2\\cdot n$ og $q = 2\\cdot m$ for heltall $n,m$.\n",
    "\n",
    "Dermed gjelder $$p+q = 2n + 2m = 2\\cdot (n+m)$$\n",
    "siden $n+m$ er et heltall ser vi at summen $p+q$ kan skrives som $2$ ganger et heltall og er dermed et partall."
   ]
  },
  {
   "cell_type": "markdown",
   "metadata": {},
   "source": [
    "### Oppgave\n",
    "1. Kan du bevise at produkten av to partall $p,q$ er igjen et partall?\n",
    "2. Utforsk summen av to oddetall. Er det igjen et oddetall eller et partall? (Husk at oddetall kan skrives som $2n+1$ for noen heltall $n$)"
   ]
  },
  {
   "cell_type": "markdown",
   "metadata": {},
   "source": [
    "**Plass for dine svar, dobbeltklikk for å skrive noe**"
   ]
  },
  {
   "cell_type": "markdown",
   "metadata": {},
   "source": [
    "### Indirekte bevis\n",
    "\n",
    "I en indirekt bevis vil vi gjerne bevise at en påstand er sant. For å komme oss frem antar vi at påstanden er faktisk ikke sant og dermed gjelder det motsatte påstand (Istedet av \"Hans bor i Trondheim\" antar vi at det motsatte er sant og dermed gjelder \"Hans ikke bor i Trondheim\"). Deretter ser vi på implikasjoner som følger fra den motsatte påstand og jobber oss frem inntil vi få en implikasjon til noe som er åpenbart usant. Hvis vi klarer det lærer vi at det kunne ikke har vært sant at den motsatte påstanden gjelder (siden vi kunne bevise noe som er ikke sant hvis vi antar at den motsatte påstanden er sant). Dermed må vi har at den motsatte påstanden er usant og dette betyr at den påstanden vi ville bevise må være sant.\n",
    "\n",
    "#### Eksempel: $\\sqrt{2}$ er ikke rasjonal\n",
    "Se forelesningsnotater.\n",
    "\n",
    "#### Eksempel: Man kan ikke dele med $0$\n",
    "Et annet eksempel for indirekte bevis fins når man tenker om hvorfor det er umulig å dele med $0$. Hvis man antar at man kan dele med $0$ kommer man fort til påstander som kan ikke være sant. Vi skal ikke forklare det her men viser frem til en [Youtube video](https://youtu.be/XoWU179nkek)."
   ]
  }
 ],
 "metadata": {
  "kernelspec": {
   "display_name": "Python 3",
   "language": "python",
   "name": "python3"
  },
  "language_info": {
   "codemirror_mode": {
    "name": "ipython",
    "version": 3
   },
   "file_extension": ".py",
   "mimetype": "text/x-python",
   "name": "python",
   "nbconvert_exporter": "python",
   "pygments_lexer": "ipython3",
   "version": "3.7.4"
  }
 },
 "nbformat": 4,
 "nbformat_minor": 2
}
