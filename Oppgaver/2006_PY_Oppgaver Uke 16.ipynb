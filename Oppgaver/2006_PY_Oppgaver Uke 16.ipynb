{
 "cells": [
  {
   "cell_type": "markdown",
   "metadata": {},
   "source": [
    "# Ukentlige oppgaver uke 16\n",
    "\n",
    "Her fins noen oppgaver relatert til nullpunktsøk i Python. Vi skal diskutere disse oppgaver mandag 25.04. fra 12.15-13.00.\n",
    "\n",
    "Først å framst venligst skriv navnet ditt:"
   ]
  },
  {
   "cell_type": "code",
   "execution_count": null,
   "metadata": {},
   "outputs": [],
   "source": [
    "#Bruk Python til å skrive navnet ditt på skjermen"
   ]
  },
  {
   "cell_type": "markdown",
   "metadata": {},
   "source": [
    "## Oppgave 1: Sekantmetoden\n",
    "\n",
    "Vi har lært om intervallhalveringsmetoden for å finne  nullpunkter til kompliserte funksjoner. Intervallhalvering er ikke den eneste metoden for å lete etter nullpunkter ved hjelp av programmering. I oppgaven skal vi lære om en annen metode, den så kallte sekantmetoden.\n",
    "\n",
    "La oss først beskrive ideen av sekantmetoden. Antar at vi leter etter en nullpunkt til en funksjon $f$. Dvs. vi leter etter $x$ slik at $$f(x) = 0$$ gjelder\n",
    "\n",
    "Da er ideen av sekantmetoden at vi velger to punkter $x_0$ og $x_1$ og regner ut fra dem en ny punkt $x_2$ som er gitt ved følgende formel\n",
    "$$x_2 = x_1 - f(x_1) \\frac{x_1-x_0}{f(x_1)-f(x_0)} = \\frac{x_0 f(x_1)-x_1f(x_0)}{f(x_1)-f(x_0)}$$\n",
    "Det metoden gjør er at den beregener linjen gjennom punktene $(x_0,f(x_0))$ og $(x_1,f(x_1))$ (dvs. en sekant av grafen til $f$, det er grunnet hvorfor man kaller metoden \"sekantmetode\") og beregner nullpunktet til linjen. Se på følgende bildet fra Wikipedia:"
   ]
  },
  {
   "cell_type": "markdown",
   "metadata": {},
   "source": [
    "<img \n",
    "src=\"https://upload.wikimedia.org/wikipedia/commons/9/92/Secant_method.svg\"/>"
   ]
  },
  {
   "cell_type": "markdown",
   "metadata": {},
   "source": [
    "(a) Lag ligning for linjen gjennom punktene $(x_0,f(x_0)),(x_1,f(x_1))$. Deretter sett inn formelen for $x_2$ og vis at $x_2$ faktisk er punktet hvor linjen skærer $x$-aksen.\n",
    "\n",
    "*Tips*: Hva var formelen igjen for en linje gjennom to punkter i planet? Dette funker helt abstrakt men hvis dere har problemer med det, prøv med $x_1 = -1$, $x_0 = 2$ og $f(x)=x^2$."
   ]
  },
  {
   "cell_type": "markdown",
   "metadata": {},
   "source": [
    "**Plass for dine notater**"
   ]
  },
  {
   "cell_type": "markdown",
   "metadata": {},
   "source": [
    "Nå sekantmetoden ville fortsette akkurat som før men beregner igjen en sekant men i stedet av punktene $(x_0,f(x_0)),(x_1,f(x_1))$ starter vi nå med punktene $(x_1,f(x_1))$ og $(x_2,f(x_2))$. Den allmen formel for den neste punkt (hvis vi alrede kjenner punktene $(x_{n-1},f(x_{n-1}))$ og $(x_{n-2},f(x_{n-2}))$ er dermed gitt som\n",
    "$$x_n = x_{n-1} - f(x_{n-1})\\frac{x_{n-1}-x_{n-2}}{f(x_{n-1})-f(x_{n-2})}, \\text{ for } n \\geq 2 \\qquad (\\star)$$\n",
    "Vi fortsetter på den måten et hvis antall av steg (eller inntill vi er nær nok til nullpunktet).\n",
    "\n",
    "Før vi fortsetter å programmere det: Metoden er vanligvis fortere enn intervallhalvering men har en stor ulempe. Det fins situasjoner hvor metoden ikke leverer noen svar. \n",
    "\n",
    "(b) Se på formelen $(\\star)$ og forklar hvorfor det kan skje at metoden ikke kan levere noen svar.\n",
    "\n",
    "Tips: Se på brøk, hva kunne gå galt med den? Du kan prøve å se igjen på den enkle funksjonen $f(x)=x^2$ for å lage noen eksempel som viser at vi kan ha situasjoner hvor det blir umulig å regne frem."
   ]
  },
  {
   "cell_type": "markdown",
   "metadata": {},
   "source": [
    "**Plass for dine notater**"
   ]
  },
  {
   "cell_type": "markdown",
   "metadata": {},
   "source": [
    "Nå skal vi programmere en funksjon som implementerer sekantmetoden og regner ut alle tallene $x_n$ for et valgt antall iterasjoner $n$ (dvs. prosessen med utregning skal gjentas $n$ ganger. \n",
    "\n",
    "(c) Lag den funksjon som utfører $n$steg av sekantmetoden og gir tilbake verdien for nullpunkten den har kommet seg frem etter vi har gjentat det $n$ gangerden har utregnet"
   ]
  },
  {
   "cell_type": "code",
   "execution_count": null,
   "metadata": {},
   "outputs": [],
   "source": [
    "def sekant_iter (f,x0,x1,n):\n",
    "    #Lag en funksjonsdefinisjon her!\n",
    "    #f funksjonen som vi skal beregne nullpunkter for\n",
    "    #x0 startverdi 1\n",
    "    #x1 startverdi 2\n",
    "    #n antall av steg som skal utføres\n",
    "    \n",
    "    #Plass for din kode, husk inrykk! "
   ]
  },
  {
   "cell_type": "code",
   "execution_count": null,
   "metadata": {},
   "outputs": [],
   "source": [
    "#Testfelt ikke forandre noe her, vi skal bruke disse for å teste deres funksjon\n",
    "import math as m\n",
    "f = lambda x : x**2-3\n",
    "g = lambda x : m.sin(x)\n",
    "print(sekant_iter (f,0,5,10))\n",
    "print(sekant_iter (g,-1,1,25))"
   ]
  },
  {
   "cell_type": "markdown",
   "metadata": {},
   "source": [
    "Nå forandrer vi utfordring litt og skal lage en ny funksjon som implementerer sekantmetoden. I (c) har vi lagd en funksjon som utfører $n$steg i sekantmetoden hvor vi velger $n$ på forhand. Men ofte vil vi heller ha en metode som kjøres inntil tilnærming er bra nok. For detter definerer vi en ny verdi $\\text{tol} >0$ som brukeren kan velge for å bestemme hvor stor feil i tilnærming h$*$n ville tilatte.\n",
    "\n",
    "(d) Beskriv hvordan man kunne måle en relevant tilnærmingsfeil av de punktene sekantmetoden lager i forhold til oppgaven (dvs. at vi leter etter nullpunkt av den funksjonen $f$). Forklar hvorfor man må samenligne feilen dere har målt med toleranse vi har valgt (dvs. tall $\\text{tol}$) og hva programmet skulle gjøre etter den oppdager at feilen er mindre enn toleranse. \n",
    "\n",
    "Tip: Her fins minst to muligheter å måle feil (det kan ofte være nyttig å se på bildet over som viser stegene i sekantmetoden for å finne ut hva man skulle måle som tilnærmingsfeil). "
   ]
  },
  {
   "cell_type": "markdown",
   "metadata": {},
   "source": [
    "**Plass for dine notater**"
   ]
  },
  {
   "cell_type": "markdown",
   "metadata": {},
   "source": [
    "(e) Lag en funksjon som utfører den nye sekantmetoden som beregner tilnærmingsfeil dere har definert i (d) og sammenlikner den med toleransen."
   ]
  },
  {
   "cell_type": "code",
   "execution_count": null,
   "metadata": {},
   "outputs": [],
   "source": [
    "def sekant_tol (f,x0,x1,tol):\n",
    "    #Lag en funksjonsdefinisjon her!\n",
    "    #f funksjonen som vi skal beregne nullpunkter for\n",
    "    #x0 startverdi 1\n",
    "    #x1 startverdi 2\n",
    "    #tol toleranse som brukeren kan velge for å sjekke tilnærmingsfeil\n",
    "    \n",
    "    #Plass for din kode, husk inrykk! "
   ]
  },
  {
   "cell_type": "code",
   "execution_count": null,
   "metadata": {},
   "outputs": [],
   "source": [
    "#Testfelt ikke forandre noe her, vi skal bruke disse for å teste deres funksjon\n",
    "print(sekant_iter (f,0,5,0.1))\n",
    "print(sekant_iter (f,0,5,0.01))\n",
    "print(sekant_iter (g,-1,1,0.001))"
   ]
  }
 ],
 "metadata": {
  "kernelspec": {
   "display_name": "Python 3",
   "language": "python",
   "name": "python3"
  },
  "language_info": {
   "codemirror_mode": {
    "name": "ipython",
    "version": 3
   },
   "file_extension": ".py",
   "mimetype": "text/x-python",
   "name": "python",
   "nbconvert_exporter": "python",
   "pygments_lexer": "ipython3",
   "version": "3.7.4"
  }
 },
 "nbformat": 4,
 "nbformat_minor": 2
}
