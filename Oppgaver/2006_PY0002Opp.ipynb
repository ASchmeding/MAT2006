{
 "cells": [
  {
   "cell_type": "markdown",
   "metadata": {},
   "source": [
    "# Oppgaver for Uke 2\n",
    "\n",
    "Her fins noen oppgaver relatert til grunnleggende programering i Python. Vi skal diskutere disse oppgaver mandag 10.01. fra 8.15-9.00 (bruk vanlig zoom lenke for mandagsundervisning)\n",
    "\n",
    "Først å framst trenger vi navnet ditt:"
   ]
  },
  {
   "cell_type": "code",
   "execution_count": null,
   "metadata": {},
   "outputs": [],
   "source": [
    "#Bruk print() funksjonen for å fortelle Python å skrive \n",
    "#navnet ditt!\n",
    "#Skriv kode ditt under"
   ]
  },
  {
   "cell_type": "markdown",
   "metadata": {},
   "source": [
    "Grunnen vi bryr oss om det at bare de som har jobbet med oppgavene og levert JuPyter notat i Canvas diskusjon før vurderingsøkta på mandag får være med i økt)."
   ]
  },
  {
   "cell_type": "markdown",
   "metadata": {},
   "source": [
    "# Oppgave 1\n",
    "\n",
    "For kodesnuttene under, svar på følgende:\n",
    "\n",
    "1. Hva tror du eleven har prøvd å få til\n",
    "2. Hva er output fra programmet?\n",
    "3. Hva har elevene misforstått?\n",
    "4. Hvordan kan vi rette opp programmet?"
   ]
  },
  {
   "cell_type": "code",
   "execution_count": null,
   "metadata": {},
   "outputs": [],
   "source": [
    "# Kode 1:\n",
    "# --------------\n",
    "\n",
    "def f(x):\n",
    "    y= x**2\n",
    "    \n",
    "a = f(2)\n",
    "print(a)"
   ]
  },
  {
   "cell_type": "code",
   "execution_count": null,
   "metadata": {},
   "outputs": [],
   "source": [
    "#Skriv svaret ditt under (bruk kommentar for svarene \n",
    "# som ikke skal utføres som kode), test rettet koden din "
   ]
  },
  {
   "cell_type": "code",
   "execution_count": null,
   "metadata": {},
   "outputs": [],
   "source": [
    "# Kode 2\n",
    "# ------------------------\n",
    "\n",
    "def f(x):\n",
    "    y = x**2\n",
    "    a = f(2)\n",
    "    print(a) "
   ]
  },
  {
   "cell_type": "code",
   "execution_count": null,
   "metadata": {},
   "outputs": [],
   "source": [
    "#Skriv svaret ditt under (bruk kommentar for svarene \n",
    "# som ikke skal utføres som kode), test rettet koden din "
   ]
  },
  {
   "cell_type": "code",
   "execution_count": null,
   "metadata": {},
   "outputs": [],
   "source": [
    "# Kode 3\n",
    "# ----------------------------------\n",
    "for i in range(10):\n",
    "    def f(x):\n",
    "        return x**2\n",
    "    print(f(x))"
   ]
  },
  {
   "cell_type": "code",
   "execution_count": null,
   "metadata": {},
   "outputs": [],
   "source": [
    "#Skriv svaret ditt under (bruk kommentar for svarene \n",
    "# som ikke skal utføres som kode), test rettet koden din "
   ]
  },
  {
   "cell_type": "markdown",
   "metadata": {},
   "source": [
    "# Oppgave 3\n",
    "\n",
    "(a) Lag en funksjon <code>min_summe</code> i Python som tar imot en liste av tall og beregner summen av listen. \n",
    "\n",
    "Merk: \n",
    "- Du må lage den funksjonen uten å bruke funksjoner fra biblioteker i Python som beregner summen av en liste. Dvs. ikke bruk for eksempel fra NumPy funksjonen <code>numpy.sum</code>\n",
    "- Vi forventer at din funksjon ble lagd sammen med en funksjonsdokumentasjon   "
   ]
  },
  {
   "cell_type": "code",
   "execution_count": null,
   "metadata": {},
   "outputs": [],
   "source": [
    "#plass for din kode. Merk at funksjonen må nevnes min_summe!"
   ]
  },
  {
   "cell_type": "code",
   "execution_count": null,
   "metadata": {},
   "outputs": [],
   "source": [
    "#Testcelle for din funksjon, ikke endre noe inn i her\n",
    "print(min_summe([1,2,3,4,5]))      #Forvented resultat 15\n",
    "print(min_summe([1.5,-2.3,5,2,3])) #Forvented resultat 9.2"
   ]
  },
  {
   "cell_type": "markdown",
   "metadata": {},
   "source": [
    "(b) Hvis vi kjører funkjsonen <code>min_summe</code> med listen <code> [1, 2, 'Haha!' ,3]</code> får vi en feilmelding **TypeError**. Forklar hva feilmedling betyr i forhold til hva funksjonen din gjør og listen den ble gitt.\n",
    "\n",
    "Tips: Det kan være lurt å kjøre koden for å se på den nøyaktig feilmelding"
   ]
  },
  {
   "cell_type": "markdown",
   "metadata": {},
   "source": [
    "**Skriv svaret ditt inn i tekstboksen (dobbeltklikk her for å skrive noe)**"
   ]
  },
  {
   "cell_type": "markdown",
   "metadata": {},
   "source": [
    "(c) Vi forbedrer nå vår funksjon <code>min_summe</code>. Lag en ny funksjon <code>sum_alt_du_kan</code> som tar imot en liste og adderer alle tall i listen (mens det gjør ingenting med elementene som kan ikke adderes til tall).\n",
    "\n",
    "Tip: Du kan f.eks. sjekke ved hjelp av en <code>if</code>-vilkår hvis en element i listen er av type <code>int</code> eller <code>float</code>. Hvis det er sant adderes ellers bryr vi oss ikke."
   ]
  },
  {
   "cell_type": "code",
   "execution_count": null,
   "metadata": {},
   "outputs": [],
   "source": [
    "#plass for din kode. Merk at funksjonen må nevnes sum_alt_du_kan!"
   ]
  },
  {
   "cell_type": "code",
   "execution_count": null,
   "metadata": {},
   "outputs": [],
   "source": [
    "#Testcelle for din funksjon, ikke endre noe inn i her\n",
    "print(sum_alt_du_kan([1,2,3,4,5]))      #Forvented resultat 15\n",
    "print(sum_alt_du_kan([1.5,-2.3,5,2,3])) #Forvented resultat 9.2\n",
    "print(sum_alt_du_kan([1,2,'Haha',3]))   #Forvented resultat 6\n",
    "print(sum_alt_du_kan(['1','to','tre'])) #Forvented resultat 0"
   ]
  },
  {
   "cell_type": "markdown",
   "metadata": {},
   "source": [
    "# Oppgave 3\n",
    "\n",
    "(a) Lag en funksjon som sammenligner to tall og forteller deg hvilket som er størst."
   ]
  },
  {
   "cell_type": "code",
   "execution_count": null,
   "metadata": {},
   "outputs": [],
   "source": [
    "def sammenlikning(a,b):   #Ikke endre noe i denne linjen\n",
    "    # ----- Her kommer dokumentasjon (du må legge den inn)\n",
    "    #  Plass for en forklaring hva funksjonen gjør (du kan slette mine forklaringer),\n",
    "    #  men dokumentasjonen skal vise til noen  som er ikke kjennt med koden din,\n",
    "    #  hva funksjonen gjør og hvordan man bruker den, f.eks. kan den forklare hva variablene\n",
    "    #  a og b betyr og hva funksjonen gjør med dem. \n",
    "    # ----- Dokumentasjon avsluttes etter linjen\n",
    "    #Skriv din kode inn i her, kjør koden ved trykk av SHIFT + ENTER"
   ]
  },
  {
   "cell_type": "code",
   "execution_count": null,
   "metadata": {},
   "outputs": [],
   "source": [
    "#Testfelt for sammenlikningsfunksjon, ikke endre noe her\n",
    "sammenlikning(1,2)\n",
    "sammenlikning(-1,3)\n",
    "sammenlikning(1,1)\n",
    "sammenlikning(2.5,-42)"
   ]
  },
  {
   "cell_type": "markdown",
   "metadata": {},
   "source": [
    "(b) Lag en funksjon <code>min_sylinder(r,h)</code>, hvor $r$ og $h$ er henholdsvis radius og høyde til en sylinder, og funksjonen gir tilbake en liste <code>[s, v]</code> der $s$ og $v$ er overflatearealet og volumet til samme sylinder. Husk at overflatearealet til en sylinder er $2\\pi r^2 \\ + 2\\pi r h$, og volumet er $πr^2h$.\n",
    "\n",
    "Tipps: Du trenger å laste inn en bibliotek som gir definisjonen av $\\pi$."
   ]
  },
  {
   "cell_type": "code",
   "execution_count": null,
   "metadata": {},
   "outputs": [],
   "source": [
    "#Skriv inn koden din her, ikke glem å laste inn pakken du trenger for PI! \n",
    "#Utfør koden ved trykk av SHIFT + ENTER"
   ]
  },
  {
   "cell_type": "code",
   "execution_count": null,
   "metadata": {},
   "outputs": [],
   "source": [
    "#Igjen tester vi funksjonen\n",
    "min_sylinder(1,5)\n",
    "#Forvented resultat: [37.6991, 15.7080]\n",
    "min_sylinder(2,4)\n",
    "#Forvented resultat: [62.8319, 37.6991]"
   ]
  }
 ],
 "metadata": {
  "kernelspec": {
   "display_name": "Python 3",
   "language": "python",
   "name": "python3"
  },
  "language_info": {
   "codemirror_mode": {
    "name": "ipython",
    "version": 3
   },
   "file_extension": ".py",
   "mimetype": "text/x-python",
   "name": "python",
   "nbconvert_exporter": "python",
   "pygments_lexer": "ipython3",
   "version": "3.7.4"
  }
 },
 "nbformat": 4,
 "nbformat_minor": 4
}
