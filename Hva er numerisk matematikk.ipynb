{
 "cells": [
  {
   "cell_type": "markdown",
   "metadata": {},
   "source": [
    "<!-- dom:TITLE: Numerisk matematikk?   -->\n",
    "# Hva er numerisk matematikk\n",
    "### ... og hvorfor skal vi bry oss i skoleundervisning\n",
    "<!-- dom:AUTHOR: A. Schmeding -->\n",
    "<!-- Author: -->  \n",
    "\n",
    "### **Numerisk matematikk handler om å finne en beregningsmessig løsning for matematisk formulerte problemer**\n",
    "\n",
    "Den største andelen av matematikk som utføres av en datamaskin kan regnes om til numerisk matematikk. Det er viktig å forstå tenkemåten til numerisk matematikk siden det skiller seg fra den vanlige måten vi er vant å gjøre matematikk på i skolen."
   ]
  },
  {
   "cell_type": "markdown",
   "metadata": {},
   "source": [
    "## Datamaskiner regner annerledes \n",
    "\n",
    "Vi mennesker kan løse en likning som \n",
    "$$x^2 = 2 \\text{ eksakt som } x= \\pm \\sqrt{2}.$$\n",
    "Men $\\sqrt{2} = 1.414213...$ er ett tall med uendelig mange ulike og uregelmessige desimaler etter komma, dvs. $\\sqrt{2}$ er ett irrasjonalt tall og kan ikke skrives som en brøk. En datamaskin kan aldri beregne den eksakte verdien til $\\sqrt{2}$, siden datamaskinen kan maksimalt lagre endelig mange desimaltall.\n",
    "\n",
    "Dermed er det viktig å forstå:\n",
    "\n",
    "### **En datamaskin beregner bare en *tilnærming* til den virkelige løsningen** \n",
    "\n",
    "I tillegg er det viktig å skjønne at mange av de regnestegene en datamaskin utfører, ville lede til en liten feil pga. avrundinger datamaskinen bør ta. Vanligvis er det uproblematisk for brukeren fordi datamaskinen regner nøyaktig nok for alt brukeren ønsker å vite (i skolen bryr vi oss oftest bare om tre desimaler etter komma og moderne datamaskinen pleier å regne med minst $16$ desimaler etter komma). \n",
    "\n",
    "Spørsmålet er selvfølgelig: \n",
    "### Hvis datamaskinen ikke regner nøyaktig, hva mener vi egentlig når vi sier at datamaskinen løser en matematisk oppgave?"
   ]
  },
  {
   "cell_type": "markdown",
   "metadata": {},
   "source": [
    "La oss igjen se på et eksempel. Kanskje vi ønsker å finne kvadratrot av $71$. \n",
    "\n",
    "Siden $10^2 =100$ er større enn $71$ vet vi at kvadratrot til $71$ bør være mindre enn $10$. Antageligvis vil vi også ikke akseptere $10$ som et godt svar på spørsmålet etter $\\sqrt{71}$ fordi $100$ er \"mye\" større enn $71$. Liknende kan vi si om $9$, siden $9^2=81$ er større enn $71$.\n",
    "\n",
    "Omvendt ser vi at $\\sqrt{71}$ bør være større enn $8$ siden $8^2 =64$. Så vi vet nå at $8< \\sqrt{71} < 9$.\n",
    "Vi kan fortsette å gjette bedre tilnærminger til kvadratroten, men da kan vi kanskje heller la Python regne for oss."
   ]
  },
  {
   "cell_type": "code",
   "execution_count": null,
   "metadata": {},
   "outputs": [],
   "source": [
    "#La oss prøve med forskjellige verdier for kvadratroten til 71\n",
    "\n",
    "print(8.5**2)"
   ]
  },
  {
   "cell_type": "markdown",
   "metadata": {},
   "source": [
    "Dette gjettet var allrede mye bedre, men igjen for stort."
   ]
  },
  {
   "cell_type": "code",
   "execution_count": null,
   "metadata": {},
   "outputs": [],
   "source": [
    "print(8.4**2) # Enda bedre, men la oss fortsette litt til\n",
    "\n",
    "print(8.43**2)"
   ]
  },
  {
   "cell_type": "markdown",
   "metadata": {},
   "source": [
    "Kanskje er vi fornøyde med $8.43$ som en tilnærming til kvadratroten av $71$ , hvis ikke må vi fortsette å lete etter en bedre tilnærming (kanskje $8.427$??).\n",
    "\n",
    "La oss stoppe her og spørre: Hva har vi egentlig gjort? \n",
    "\n",
    "1. Vi har gjettet $g$ for kvadratroten til $a=71$\n",
    "2. For å avgjøre om gjettet er bra nok, har vi sett på $g^2$. Når den var nær nok til $71$ var vi fornøyde og kunne avslutte.\n",
    "\n",
    "Det vi faktisk har sett på i steg $2$ var forskjellen mellom $g^2$ og $71$. Med andre ord; vi ville ha at $g^2-a$ er lite. Siden fortegn ikke spiller noen rolle kan vi si at det er vårt mål å finne et gjett $g$ slik at absoluttverdien \n",
    "$$|g^2-a|$$\n",
    "er lite. Før vi minner om absolutverdien, la oss si at uttrykket $|g^2-a|$ er det vi ville kalle for **tilnærmingsfeil**. "
   ]
  },
  {
   "cell_type": "markdown",
   "metadata": {},
   "source": [
    "---\n",
    "\n",
    "\n",
    "### **Absolutverdien** \n",
    "er en funskjon som er gitt som\n",
    "$$|x|= \\begin{cases} x, & x\\geq 0\\\\ -x, & x<0\\end{cases}$$\n",
    "dette betyr at absolutverdien fjerner fortegn foran et tall. Den kan også tolkes som avstand fra ett tall fra $0$.\n",
    "Grafen til funksjonen ser slik ut:\n",
    "<img src=\"https://upload.wikimedia.org/wikipedia/commons/6/6b/Absolute_value.svg\">\n",
    "\n",
    "---\n",
    "\n",
    "Hvis vi beregner absolutverdien til differansen $|x-y|$ av to tall $x,y$ kan vi tolke resultatet som avstanden mellom de to tallene. (her fins en [Video om absolutverdien](https://streaming.kaltura.nordu.net/p/261/sp/26100/serveFlavor/entryId/0_otayxsu0/v/12/flavorId/0_ma7xo4g0/name/a.mp4) som forklarer påstanden) I Python fins absolutverdien som en funksjon <code>abs</code> "
   ]
  },
  {
   "cell_type": "code",
   "execution_count": null,
   "metadata": {},
   "outputs": [],
   "source": [
    "#Absolutverdi i Python\n",
    "print('|-1|=', abs(-1))\n",
    "print('|0|=', abs(0))\n",
    "print('|2|=', abs(2))\n",
    "print(abs(1-2))"
   ]
  },
  {
   "cell_type": "markdown",
   "metadata": {},
   "source": [
    "### Feil og toleranse\n",
    "\n",
    "Som vi har sagt før, finner en datamaskin vanligvis ikke den ekte løsningen. I eksempelproblemet med kvadratrot har vi kjørt en algoritme (\"prøving og feiling\") som leter etter en tilnærming $g$ til den ekte kvadratrot $\\sqrt{a}$.\n",
    "\n",
    "Fra problemet var det hensiktsmessig å kalle $g$ en god tilnærming når **feilen** $|g^2-a|$ var liten.\n",
    "\n",
    "Merk at $g$ er kvadratrot til $a$ hvis feilen er akkurat lik $0$. Vanligvis kan vi ikke forvente at dette skjer når vi gjetter et tall (eller om vi bruker en mer avansert metode ved hjelp av datamaskinen)."
   ]
  },
  {
   "cell_type": "markdown",
   "metadata": {},
   "source": [
    "Siden datamaskinen vil nesten alltid produsere en tilnærming som ikke er den ekte løsning må vi velge hva slags feil vi kan akseptere. Dette kaller vi en **toleranse**.\n",
    "\n",
    "Toleranse betyr at vi velger ett tall $\\mathrm{tol} >0$ som angir hvor stor vi tilatter at feilen er, mens vi aksepterer tilnærmingen datamaskinen har levert som en god nok løsning til problemet vårt. \n",
    "\n",
    "<Strong>Viktig:</Strong> Toleranse velges på forhand og er helt avhengig av det brukeren trenger (dvs. dere kan velge)\n",
    "\n",
    "## **Arbeidsflyt for (numerisk) matematikk med datamaskiner**\n",
    "\n",
    "Anta at vi har noen programmer som beregner en tilnærming til noe vi lurer om.\n",
    "1. Finn ut en måte å beregne feil programmet gjør (f.eks. $|g^2-a|$ for programm som leter etter kvadratrot og gir tilbake $b$)\n",
    "2. Velg en toleranse $\\text{tol}>0$.\n",
    "3. Kjør programmet og beregn feilen for resultatet programmet gir.\n",
    "4. Hvis feilen er mindre enn toleransen (f.eks. $|g^2 -a| < \\text{tol}$ så godkjenner vi tilnærming som en løsning.\n",
    "5. Ellers må vi prøve på nytt.\n",
    "\n",
    "Vi skal se nå på noen konkrete oppskrifter som kan brukes for å lete etter kvadratrot av ett tall $a$ ved bruk av en datamaskin."
   ]
  },
  {
   "cell_type": "code",
   "execution_count": null,
   "metadata": {},
   "outputs": [],
   "source": [
    "#Tulleksempel: Kvadratrotproblem\n",
    "#1. Måle feil som |g^2-a|\n",
    "#2. Velg toleranse tol = 1000 Veldig dårlig toleranse!\n",
    "tol = 1000\n",
    "#La oss beregne kvadratroten til a = 5\n",
    "a = 5\n",
    "# La oss gjette kvadratroten, b = 2.2, siden toleransen er så stor\n",
    "g = 15\n",
    "\n",
    "\n",
    "#Nå må vi be Python å avgjøre for oss om gjettet er bra nok ifølge toleransen som ble satt på forhånd\n",
    "if abs(g**2-a)<tol:\n",
    "    print('Gratulerer,', g , 'er godkjent som kvadratrot av', a)\n",
    "else:\n",
    "    print('Let videre, ikke god nok', g**2)"
   ]
  },
  {
   "cell_type": "markdown",
   "metadata": {},
   "source": [
    "Eksempelet i cellen over skal bare vise betydningen av toleranse og hva som skjer hvis vi velger en toleranse som er veldig stor. Numerisk matematikk bryr seg om metoder som garanterer at man finner gode tilnærminger til tall man leter etter (og selvfølgelig vil man finne metoder som er effektive og gir lite feil).\n",
    "\n",
    "Gjerne prøv med forskjellige toleranser $tol$ og gjett $g$ i programmet over."
   ]
  },
  {
   "cell_type": "markdown",
   "metadata": {},
   "source": [
    "## Litt mer om feil i datamaskiners beregninger\n",
    "\n",
    "Hvis man er ikke er interesserte i vitenskapelige beregninger, hvor høy nøyaktighet er påkreved. Vi er vant til å stole på beregninger en datamaskin eller en kalkulator har utført. Siden de ikke regner nøyaktig bør man være bevisst at utregninger en datamaskin gjør kan være ganske dårlige når man ikke passer på. En stor gren av numerisk matematikk bryr seg om dette problemet og man kan i prinsippet kjøre et helt kurs om bare slike problemer. Det er i hvert fall verdt å se på et eksempel hvor datamaskinen samler feil under utregning av et enkelt problem.\n",
    "\n",
    "### Et lite eksempel\n",
    "\n",
    "Det er enkelt å se at de to uttrykkene\n",
    "\n",
    "$$1-\\frac{1-x}{1+x} \\text{ og } \\frac{2x}{1+x}$$\n",
    "\n",
    "er like for hver $x>-1$.\n",
    "\n",
    "### **Oppgave:** Bruk algebra for å vise at disse to er like.\n",
    "\n",
    "Vi skal beregne nå for en $x=1/765432$ verdien til de to uttrykkene, men i stedet for den vanlige presisjonen i utregningen, tvinger vi Python å regne med bare $5$ desimaler. For dette bruker vi et bibliotek som heter <code>decimal</code>. Ikke bryr dere så mye om det biblioteket gjør, for det vi skal vise er det bare viktig at den tilater at vi definerer hvor mange desimaler Python skal regne med (i vanlig Python beregninger med <code>float</code> bruker man alltid så mange desimaler som datamaskinen tilbyr)."
   ]
  },
  {
   "cell_type": "code",
   "execution_count": null,
   "metadata": {},
   "outputs": [],
   "source": [
    "import decimal as dc\n",
    "dc.getcontext().prec = 7     #Vi definerer at datamaskinen bare skal regne med 7 desimaler \n",
    "x=dc.Decimal(1/765432)         #La oss lage variabelen x\n",
    "\n",
    "print('Vi regner nå med variabelen x=',x, '\\n Beregning skjer med 7 relevante desimaler')\n",
    "\n",
    "print('Beregnet verdi til 1-(1-x)/(1+x) er ', 1-(1-x)/(1+x))\n",
    "print('Beregnet verdi til 2*x/(1+x) er ', (2*x)/(1+x))"
   ]
  },
  {
   "cell_type": "markdown",
   "metadata": {},
   "source": [
    "Vi ser at resultater fra begge uttrykkene er forskjellige selv om de to uttrykkene er matematisk likeverdige!\n",
    "\n",
    "Grunnen er det datamaskinen gjør internt når vi tvinger den å regne med bare 7 relevante desimaler. Det eksempel viser er at det kan være en forskjell i resultatet når vi bruker forskjellige fremstillinger av det samme matematiske innholdet. \n",
    "\n",
    "Gjerne prøv med forskjellige verdier for relevante desimaler og se på feilen som opptrer.\n",
    "\n",
    "Merk at vi har satt ned nøyaktighet av datamaskinens beregninger til en fjerdedel av det det vanligvis er. Selv om vi gjør det er feilen liten. Dermed kan vi ignorere problemet i alle spørsmål vi ser på i løpet av matematikkundervisning i skolen.\n",
    "Oppsummert vil vi bare henvise at det fins mange rare problemer som opptrer når man ønsker at datamaskinen regner nøyaktig!"
   ]
  },
  {
   "cell_type": "code",
   "execution_count": null,
   "metadata": {},
   "outputs": [],
   "source": []
  }
 ],
 "metadata": {
  "kernelspec": {
   "display_name": "Python 3",
   "language": "python",
   "name": "python3"
  },
  "language_info": {
   "codemirror_mode": {
    "name": "ipython",
    "version": 3
   },
   "file_extension": ".py",
   "mimetype": "text/x-python",
   "name": "python",
   "nbconvert_exporter": "python",
   "pygments_lexer": "ipython3",
   "version": "3.7.4"
  }
 },
 "nbformat": 4,
 "nbformat_minor": 4
}
