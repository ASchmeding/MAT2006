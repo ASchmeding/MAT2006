{
 "cells": [
  {
   "cell_type": "markdown",
   "metadata": {},
   "source": [
    "<!-- dom:TITLE: Tallsekvenser og Python   -->\n",
    "# Tallsekvenser og Python \n",
    "<!-- dom:AUTHOR: A. Schmeding -->\n",
    "<!-- Author: -->  \n",
    "**Alexander Schmeding**\n",
    "\n",
    "Date: **Jan, 2023**\n",
    "\n",
    "# Innledning\n",
    "\n",
    "I dette notatbok skal vi utforske tallsekvenser og lære hvordan vi kan bruke Python for å beregne dem. Underveis skal vi lære om noen programmeringsmetoder.\n",
    "\n",
    "Det fins forskjellige typer naturlige tall som kunne være interessant å se på. For eksempel kan vi se på \n",
    "\n",
    "**partall**, dvs. tall som kan skrives på måten $2\\cdot n$ for noen heltall $n$, og \n",
    "\n",
    "**oddetall**, som kan skrives som $2\\cdot n + 1$ for $n$ et heltall. "
   ]
  },
  {
   "cell_type": "code",
   "execution_count": null,
   "metadata": {},
   "outputs": [],
   "source": [
    "#Skriv ut de første 5 partall\n",
    "print(2,4,6,8,10)                         "
   ]
  },
  {
   "cell_type": "code",
   "execution_count": null,
   "metadata": {},
   "outputs": [],
   "source": [
    "#Nå gjør vi det litt mer systematisk\n",
    "n=1                        #ny variabel n settes på verdien 1\n",
    "print(2*n)                 #Beregner 2*n og skriver ut resultatet på skjermen"
   ]
  },
  {
   "cell_type": "markdown",
   "metadata": {},
   "source": [
    "Det blir fort slitsom å gjenta kode på den måten. "
   ]
  },
  {
   "cell_type": "code",
   "execution_count": null,
   "metadata": {},
   "outputs": [],
   "source": [
    "#Vi bruker nå en for-løkke for å lage de første partall\n",
    "\n",
    "n=1\n",
    "\n",
    "for k in range(5):\n",
    "    print(2*n)\n",
    "    n=n+1 #siste linje som tilhører første løkken\n",
    "\n",
    "print('Nå med en enklere løkke:') #ikke med i løkken\n",
    "for k in [1,2,3,4,5]:\n",
    "    print(2*k)       #kode i andre løkken"
   ]
  },
  {
   "cell_type": "markdown",
   "metadata": {},
   "source": [
    "## For løkker\n",
    "\n",
    "For løkker tilatter at vi gjentar kode på en effektiv måte. Konsepten kalles for en *for-løkke*. Den trekker ting fra en liste og setter dem inn for en variabel. Syntaks er alltid noe som det følgende:\n",
    "\n",
    "```Python\n",
    "    for variabel in liste:\n",
    "        gjør noe\n",
    "```\n",
    "Merk: \n",
    "1. I eksempelen over har vi brukt range(5) for å lage listen $[0,1,2,...,4]$.     OBS: Python teller fra 0!"
   ]
  },
  {
   "cell_type": "code",
   "execution_count": null,
   "metadata": {},
   "outputs": [],
   "source": [
    "#litt om range\n",
    "?range"
   ]
  },
  {
   "cell_type": "markdown",
   "metadata": {},
   "source": [
    "2. Python gjentar kode i for-løkken som har innrykk. Det er veldig viktig å huske innrykk."
   ]
  },
  {
   "cell_type": "code",
   "execution_count": null,
   "metadata": {},
   "outputs": [],
   "source": [
    "#Vi har endret eksempel fra før. Tenk før koden kjøres: Hva ville skje? Deretter kjør kode og se hvis det passer til\n",
    "#forventninger du hadde\n",
    "n=1                       #sett variabel n til n\n",
    "for k in range(5):        #begynner en for løkke med tellevariabel k og liste [0,1,2,3,4]\n",
    "    print(2*n)            #Skriv ut 2*n \n",
    "n=n+1                     #sett n til n+1"
   ]
  },
  {
   "cell_type": "markdown",
   "metadata": {},
   "source": [
    "3. Vi kan bruke den nye variabelen \"variabel\" i koden som utføres i løkken "
   ]
  },
  {
   "cell_type": "code",
   "execution_count": null,
   "metadata": {},
   "outputs": [],
   "source": [
    "for k in range(5):       #begynner en for løkke med tellevariabel k og liste [0,1,2,3,4]\n",
    "    print(2*(k+1))       #skriv ut svaret til 2*(k+1)"
   ]
  },
  {
   "cell_type": "markdown",
   "metadata": {},
   "source": [
    "Det fins en forskjell mellom de variabler $n$ og $k$ som vi brukte i siste eksempel. Den forklarer vi i introduksjon til løkker som ligger på Canvas. Se på Jupyter notebook *PY0101No-3-2-Loops (loekker).ipynb* (se Canvas)\n",
    "\n",
    "#### Oppgave\n",
    "Lag to nye for-løkker \n",
    "1. som skriver ut de første 10 oddetall"
   ]
  },
  {
   "cell_type": "code",
   "execution_count": null,
   "metadata": {},
   "outputs": [],
   "source": [
    "#skriv din kode under og kjør den ved å trykke shift+enter"
   ]
  },
  {
   "attachments": {},
   "cell_type": "markdown",
   "metadata": {},
   "source": [
    "2. Trekant tallene er figurtall som gir antall av sirkler i figuren \n",
    "![Trekant tallene (laget av Olav Kristensen og Stein Aanensen)](https://api.ndla.no/image-api/raw/trekanttall_4stk.png?)\n",
    "Formelen for den $n$te trekant tall er $\\frac{1}{2} n(n+1)$. Lag en for-løkke for å skrive ut alle trekant tall som er mindre enn $100$.  "
   ]
  },
  {
   "cell_type": "code",
   "execution_count": null,
   "metadata": {},
   "outputs": [],
   "source": [
    "#skriv din kode under og kjør den ved å trykke shift+enter"
   ]
  },
  {
   "cell_type": "markdown",
   "metadata": {},
   "source": [
    "### while-løkker\n",
    "\n",
    "I det siste eksempel var det slitsom å finne ut på forhand hvor lenge løkken måtte kjøre, dvs. for hvilket $n$ har vi $\\frac{1}{2}n(n+1)>100$?\n",
    "\n",
    "For disse tilfelle fins en annen løkke vi kan bruke. Den heter while-løkke og kjøres så langt en betingelse er oppfyllt.\n",
    "Syntaks for den er som følgende\n",
    "\n",
    "```Python\n",
    "while betingelsen :\n",
    "      gjør noe \n",
    "```\n",
    "Så den sjekkes hvis betingelsen er sant og så lenge det er gitt, kjøres kode i løkken. La oss se det i eksempel for trekantallene"
   ]
  },
  {
   "cell_type": "code",
   "execution_count": null,
   "metadata": {},
   "outputs": [],
   "source": [
    "#Alle trekant tall mindre enn 100 ved bruk av en while-løkke\n",
    "n=1\n",
    "while (n*(n+1))//2 < 100:     #Vi bruker her dobbelskråstrekk siden resultatet er et heltall, kan også brukes enkelt /\n",
    "    print((n*(n+1))//2)\n",
    "    n+=1                        #Øker n med 1 hver gang den kjør"
   ]
  },
  {
   "cell_type": "markdown",
   "metadata": {},
   "source": [
    "#### Oppgaver\n",
    "\n",
    "1. Skriv ut de første $10$ tall ved bruk av en while-løkke"
   ]
  },
  {
   "cell_type": "code",
   "execution_count": null,
   "metadata": {},
   "outputs": [],
   "source": [
    "#skriv din kode under og kjør den ved å trykke shift+enter"
   ]
  },
  {
   "cell_type": "markdown",
   "metadata": {},
   "source": [
    "2. Lag en løkke som adderer alle naturlige tall fra $1$ til og med et naturlig tall $n$ brukeren kan taste inn (kode for inntasting ligger alrede i kodecellen, dere trenger bare lage while-løkken og skrive ut resultatet)"
   ]
  },
  {
   "cell_type": "code",
   "execution_count": null,
   "metadata": {},
   "outputs": [],
   "source": [
    "#Kode som spør for tall fra brukeren (ikke endre det!)\n",
    "n = int(input('Skriv inn et naturlig tall:')) #Spør etter et tall, input spytter ut en streng                                         #int() omdanner strengen til et heltall \n",
    "                                              #heltallet lagres som variabel n"
   ]
  },
  {
   "cell_type": "markdown",
   "metadata": {},
   "source": [
    "Faktisk er det mye enklere å lage det ved hjelp av en <code>for</code>-løkke. Klarer dere å prgrammere det med en slik løkke?"
   ]
  },
  {
   "cell_type": "code",
   "execution_count": null,
   "metadata": {},
   "outputs": [],
   "source": [
    "#skriv din kode under og kjør den ved å trykke shift+enter"
   ]
  },
  {
   "cell_type": "markdown",
   "metadata": {},
   "source": [
    "#### Tull med while løkker\n",
    "\n",
    "Man må passe litt på med while-løkker siden de bare avsluttet hvis betingelsen som evalueres i begynnelse er ikke lengre sant. Se på følgendes eksemple og avgjør hva ville skje:"
   ]
  },
  {
   "cell_type": "code",
   "execution_count": null,
   "metadata": {},
   "outputs": [],
   "source": [
    "#Vi har ødelagt while-løkken...\n",
    "n=1\n",
    "while (n*(n+1))//2 < 100:     #Vi bruker her dobbelskråstrekk siden resultatet er et heltall, kan også brukes enkelt /\n",
    "    print((n*(n+1))//2)\n",
    "    print('Uh oh')                          #Øker ikke verdien til n"
   ]
  },
  {
   "cell_type": "markdown",
   "metadata": {},
   "source": [
    "Igjen mer informasjon om while-løkker fins i *PY0101No-3-2-Loops (loekker).ipynb*"
   ]
  },
  {
   "cell_type": "markdown",
   "metadata": {},
   "source": [
    "## Mer om løkker og tall\n",
    "\n",
    "Det fins mange ting som kan gjøres med løkker og vi kan også sette dem inn i hverandre. For å gi ett eksempel for det, tank at vi ville gjerne finne ut hvis et tall er et primtall eller at vi ville skrive ut alle tall som deler et gitt tall.\n",
    "\n",
    "**Primtall** Et naturlig tall $n>1$ heter primtall hvis den er bare delelig av $1$ og seg selv. Ellers kaller vi $n$ *sammensatt tall*.\n",
    "\n",
    "Før vi lager en program som ser på deler av et tall, la oss se på kommandoen som Python bruker for å avgjøre hvis noen tall er delelig med et annet tall <code>%</code>."
   ]
  },
  {
   "cell_type": "code",
   "execution_count": null,
   "metadata": {},
   "outputs": [],
   "source": [
    "#Er tallene delelig med hverandre avgjøres med %\n",
    "print(6 % 2, 6 % 3, 6%4, 6%5, 6%7, 6%8)"
   ]
  },
  {
   "cell_type": "markdown",
   "metadata": {},
   "source": [
    "Hva <code>%</code> gjør er at den beregner resten av tallet på venstre hvis vi prøver å dele med tallet på høyre. \n",
    "Merk at resultatet av $x \\% y$ er lik $0$ hvis og bare hvis $y$ deler $x$.\n",
    "\n",
    "Se nå på følgende program og prøv å forklare hva skjer og hvorfor den gjør hva kommentarene sier."
   ]
  },
  {
   "cell_type": "code",
   "execution_count": null,
   "metadata": {},
   "outputs": [],
   "source": [
    "#dette programmet primtallsfaktoriserer 630\n",
    "tall = 630\n",
    "\n",
    "for faktor in range (2,630):\n",
    "    while (tall % faktor == 0):\n",
    "        print(\"630 har faktoren:\", faktor)\n",
    "        tall = tall /faktor"
   ]
  },
  {
   "cell_type": "markdown",
   "metadata": {},
   "source": [
    "Vi ser på utskrift av programmet og finner ut at \n",
    "$$630 = 2\\cdot 3^2\\cdot 5\\cdot 7$$\n",
    "Hvorfor?"
   ]
  },
  {
   "cell_type": "code",
   "execution_count": null,
   "metadata": {},
   "outputs": [],
   "source": [
    "?range"
   ]
  },
  {
   "cell_type": "code",
   "execution_count": null,
   "metadata": {},
   "outputs": [],
   "source": []
  }
 ],
 "metadata": {
  "kernelspec": {
   "display_name": "Python 3",
   "language": "python",
   "name": "python3"
  },
  "language_info": {
   "codemirror_mode": {
    "name": "ipython",
    "version": 3
   },
   "file_extension": ".py",
   "mimetype": "text/x-python",
   "name": "python",
   "nbconvert_exporter": "python",
   "pygments_lexer": "ipython3",
   "version": "3.7.4"
  }
 },
 "nbformat": 4,
 "nbformat_minor": 4
}
