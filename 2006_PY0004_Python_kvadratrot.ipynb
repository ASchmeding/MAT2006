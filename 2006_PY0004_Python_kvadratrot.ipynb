{
 "cells": [
  {
   "cell_type": "markdown",
   "metadata": {},
   "source": [
    "<!-- dom:TITLE: Pythin leter etter kvadratrot   -->\n",
    "# Python leter etter kvadratrøtter\n",
    "<!-- dom:AUTHOR: A. Schmeding -->\n",
    "<!-- Author: -->  \n",
    "**Alexander Schmeding**\n",
    "\n",
    "Date: **Jan, 2023**\n",
    "\n",
    "# Innledning\n",
    "\n",
    "Vi skal lære å programmere men for dette trenger vi noen problemer vi er (kanskje) interessert i og som kan løses ved bruk av datamaskinen. Vi skal bruke programmvare for å finne oss kvadratrøtter av tall.\n",
    "Husk at \n",
    "\n",
    "en *kvadratrot* av ett tall $a$ er ett tall $b$ slik at \n",
    "$$b^2 = a \\qquad \\text{ vanligvis skriver vi da } b = \\sqrt{a}.$$\n",
    "\n",
    "Enkle eksempler er $\\sqrt{1}=1$, $\\sqrt{4}=2$ og $\\sqrt{9}=3, ...$.\n",
    "\n",
    "Men hva med $\\sqrt{2}$? \n",
    "\n",
    "Vi vet at $1^2 = 1 < \\sqrt{2} < 4=2^2$. La oss prøve med noen tall i kalkulator:"
   ]
  },
  {
   "cell_type": "code",
   "execution_count": null,
   "metadata": {},
   "outputs": [],
   "source": [
    "#La oss prøve å finne ut hva kvadratroten av 2 er. Vi prøver å kvadrere noen tall:\n",
    "print(1.1**2)                         #Husk syntaks for potens i Python **!!                      "
   ]
  },
  {
   "cell_type": "markdown",
   "metadata": {},
   "source": [
    "Det blir fort slitsom å lete etter rota ved gjetting, la oss bruke kalkulatorfunksjonen av Python for å finne en løsning"
   ]
  },
  {
   "cell_type": "code",
   "execution_count": null,
   "metadata": {},
   "outputs": [],
   "source": [
    "from math import *  #Python vet ingenting om kvadratrot men math har funksjon sqrt\n",
    "\n",
    "a= sqrt(2)          #vi beregner kvadratrot ved hjelp av sqrt (engelsk: squareroot)\n",
    "print(a)\n",
    "\n",
    "a**2"
   ]
  },
  {
   "cell_type": "markdown",
   "metadata": {},
   "source": [
    "## Datamaskiner regner annerledes \n",
    "\n",
    "Vi som menesker kan løse en likning som \n",
    "$$x^2 = 2 \\text{ eksakt som } x= \\pm \\sqrt{2}.$$\n",
    "Men $\\sqrt{2} = 1.414213...$ er ett tall med uendelig mange ulike og uregelmessige desimaler etter kommaen (dvs. $\\sqrt{2}$ er ett irrasjonalt tall og kan ikke skrives som en brøk, vi kan se nærmere på denne påstanden senere). En datamaskin kan aldri beregne den eksakte verdien til $\\sqrt{2}$, siden den kan maksimalt lagre endelig mange desimaltall.\n",
    "\n",
    "Dermed er det viktig å forstå:\n",
    "\n",
    "### **En datamaskin beregner bare en tilnærming til den virkelig løsning** "
   ]
  },
  {
   "cell_type": "code",
   "execution_count": null,
   "metadata": {},
   "outputs": [],
   "source": [
    "a = sqrt(2) \n",
    "print('sqrt(2) gir ', a, 'hvis vi kvadrerer blir det', a**2, 'dvs. forskjellen er', 2-a**2)"
   ]
  },
  {
   "cell_type": "markdown",
   "metadata": {},
   "source": [
    "Det kan være at tilnærmingen er alrede en virkelig løsning, f.eks. $x=3$ kan også Python finne som eksakt løsning av $\\sqrt{9}$, men for vanskelige problemer ville vi nesten aldri får den ekte løsning.\n",
    "\n",
    "Vitsen er nå at vi aldri trenger den eksakte løsning, det er vanligvis tilstrekkelig å finne en *god nok* tilnærming. For dette må vi fortelle datamaskinen hva vi mener med god nok. Vi skal forklare det igjen i kontekst av kvadratrot."
   ]
  },
  {
   "cell_type": "markdown",
   "metadata": {},
   "source": [
    "### Feil og tolerans\n",
    "\n",
    "Som vi har sagt før, finner en datamaskin vanligvis ikke den ekte løsning. \n",
    "For å beregne en kvadratrot av ett tall $a$ ønsker vi å finne ett tall $b$ slik at $b^2 -a$ er veldig nær $0$. Jo nærmere det er til $0$ jo mindre kan vi si er feilen datamaskin har gjort. Hvordan måler vi det?\n",
    "Vi kan se på størrelse av $b^2-a$! \n",
    "\n",
    "Merk at det spiller ingen roll hvis $b^2-a$ er positiv eller negativ så langt at det ligger nær null på talllinje. Dermed er det hensiktsmessig hvis vi ikke bryr oss om fortegn av differansen. \n",
    "\n",
    "Det fins en matematisk funksjon som gjør akkurat det vi trenger! \n",
    "\n",
    "---\n",
    "\n",
    "**Absolutverdien** er en funskjon som er gitt som\n",
    "$$|x|= \\begin{cases} x, & x\\geq 0\\\\ -x, & x<0\\end{cases}$$\n",
    "dette betyr at absolutverdien fjerner fortegn før et tall. Den kan også tolkes som avstand av ett tall fra $0$.\n",
    "Grafen til funksjonen ser slik ut:\n",
    "<img src=\"https://upload.wikimedia.org/wikipedia/commons/6/6b/Absolute_value.svg\">\n",
    "\n",
    "---\n",
    "\n",
    "Hvis vi beregner absolutverdien til en differanse $|x-y|$ av to tall $x,y$ kan vi tolke resultatet som avstanden mellom de to tall. (her fins en [Video om absolutverdien](https://streaming.kaltura.nordu.net/p/261/sp/26100/serveFlavor/entryId/0_otayxsu0/v/12/flavorId/0_ma7xo4g0/name/a.mp4) som forklarer påstanden) I Python fins absolutverdien som en funksjon <code>abs</code> "
   ]
  },
  {
   "cell_type": "code",
   "execution_count": null,
   "metadata": {},
   "outputs": [],
   "source": [
    "#Absolutverdi i Python\n",
    "print('|-1|=', abs(-1))\n",
    "print('|0|=', abs(0))\n",
    "print('|2|=', abs(2))\n",
    "print(abs(1-2))"
   ]
  },
  {
   "cell_type": "markdown",
   "metadata": {},
   "source": [
    "#### Tilbake til kvadratrotproblemet\n",
    "\n",
    "Vi leter etter kvadratrot $\\sqrt{a}$ av ett tall $a$. \n",
    "\n",
    "Hvis vi har en kandidat $b$ for kvadratrota sier vi at differansen\n",
    "\n",
    "$$|b^2-a|$$\n",
    "\n",
    "måler **feilen** i kvadratrotproblemet. Hvis feilen er ikke lik $0$ er $b$ jo ingen kvadratrot. Uansett kan vi teste ved bruk av feilen hvor bra datamaskinen har regnet. Så hvis vi antar at $b$ er resultatet datamaskinen leverer etter programmet har kjørt, kan vi vurdere feilen for å finne ut hvor bra tilnærmingen er."
   ]
  },
  {
   "cell_type": "markdown",
   "metadata": {},
   "source": [
    "Siden datamaskinen vil nesten alltid produsere en tilnærming som ikke er den ekte løsning må vi velge hva slags feil vi ville akseptere. Dette kaller vi en **tolerans**.\n",
    "\n",
    "Tolerans betyr at vi velger ett tall $\\mathrm{tol} >0$ som angir hvor stor vi tilatter at feilen mens vi aksepterer tilnærmingen datamaskinen har levert som en god nok løsnign. \n",
    "\n",
    "<Strong>Viktig:</Strong> Tolerans velges på forhand og er helt avhengig av det brukeren trenger (dvs. dere kan velge)\n",
    "\n",
    "**Arbeidsflytt for (numerisk) matematikk med datamaskiner**\n",
    "\n",
    "Antar at vi har noen program som beregner en tilnærming til noe vi lurer om.\n",
    "1. Finn ut en måte å beregne feil programmen gjør (f.eks. $|b^2-a|$ for programm som leter etter kvadratrot og gir tilbake $b$)\n",
    "2. Velg en toleranse $\\text{tol}>0$.\n",
    "3. Kjør programmet og beregn feilen for resultatet av programmet.\n",
    "4. Hvis feilen er mindre en toleranse (f.eks. $|b^2 -a| < \\text{tol}$ så godkjenner vi tilnærming som en løsning.\n",
    "5. Ellers må vi prøve på nytt.\n",
    "\n",
    "Vi skal se nå på noen konkret oppskrift som kan brukes for å lete etter kvadratrot av ett tall $a$ ved bruk av en datamaskin."
   ]
  },
  {
   "cell_type": "code",
   "execution_count": null,
   "metadata": {},
   "outputs": [],
   "source": [
    "#Tulleksempel: Kvadratrotproblem\n",
    "#1. Måle feil som |b^2-a|\n",
    "#2. Velg tolerans tol = 1000 Veldig dårlig fordi\n",
    "tol = 0.01\n",
    "#La oss beregne en kvadratrot til a = 5\n",
    "a = 5\n",
    "# La oss gjette en kvadratrot til det, b = 2.2\n",
    "b = 2.238 #Bra gjett men jeg kan ta også b=15\n",
    "\n",
    "if abs(b**2-a)<tol:\n",
    "    print('Gratulerer,', b , 'er godkjent som kvadratrot av', a)\n",
    "else:\n",
    "    print('Let videre, ikke god nok', b**2)"
   ]
  },
  {
   "cell_type": "markdown",
   "metadata": {},
   "source": [
    "## Heron metode for å finne kvadratrøtter\n",
    "\n",
    "Herons metode er en metode for å finne tilnærmingsverdien til $\\sqrt{a}$ for en tall $a >0$ . Idéen handler om å gjøre om et rektangel med sidelengder $1$ og $a$.\n",
    "Da er arealet til rektanglet $1 \\cdot a = a$. Dessverre er rektangelet ikke et kvadrat. \n",
    "\n",
    "**Spørsmål:** Hva er sidelengde til et kvadrat med areal $a$?"
   ]
  },
  {
   "cell_type": "markdown",
   "metadata": {},
   "source": [
    "**Plass for ditt svar**"
   ]
  },
  {
   "cell_type": "markdown",
   "metadata": {},
   "source": [
    "Metoden vi skal lære nå ble beskrevet av Heron av Alexandria* (fra ca. 10 til ca. 75):\n",
    "<div>\n",
    "<img src=\"attachment:heron-de-alexandria-quem-foi-obra-e-legado-5.jpg\" width=\"500\"/>\n",
    "</div>\n",
    "\n",
    "Kan vi omdanne sidelengder slik at rektangelet blir ser «mer kvadratisk ut»?\n",
    "I hvert fall vil vi at arealet til rektangelet er lik $a$. Kanskje vi kan lage et nytt rektangel ved hjelp av gjennomsnitt mellom de to sider vi har i opprinnelig rektangel. Deretter velger vi den andre side slik at arealet til nytt rektangel vi har lagt er igjen $a$."
   ]
  },
  {
   "cell_type": "markdown",
   "metadata": {},
   "source": [
    "## Eksempel for $a=2$\n",
    "\n",
    "<img src=\"https://kodelaben.github.io/assets/images/Herons_Method1.gif\">\n",
    "\n",
    "En artikkel med mange forklaringer og historisk perspektiv fins i [Tangentens inspirasjonsbok 2005 s.10](http://www.caspar.no/tangenten/2005/inspirasjonshefte2005.pdf))."
   ]
  },
  {
   "attachments": {},
   "cell_type": "markdown",
   "metadata": {},
   "source": [
    "Vi beskriver nå metoden og skal deretter programmere den\n",
    "\n",
    "1. Velg ett tall $a>0$ vi skal bestemme $\\sqrt{a}$ til.\n",
    "2. Velg ett tall $x_0 >0$ som vi kaller startverdi (jo nærmere startverdien er til $\\sqrt{a}$ jo bedre)\n",
    "3. Regn ut tallet $$b = \\frac{1}{2}\\left(x_0 +\\frac{a}{x_0}\\right)$$\n",
    "4. Gjenta fra punkt 2 med ny startverdi $x_0=b$ til du får et tall som er så nøyaktig du ønsker"
   ]
  },
  {
   "cell_type": "markdown",
   "metadata": {},
   "source": [
    "**Oppgave** Prøv å beregne kvadratrot av $5$ ved hjelp av Herons metode og velg startverdi $x_0 = 3$."
   ]
  },
  {
   "cell_type": "code",
   "execution_count": null,
   "metadata": {},
   "outputs": [],
   "source": [
    "#Plass for dine svar, du kan bruke Python for utregninger"
   ]
  },
  {
   "cell_type": "code",
   "execution_count": null,
   "metadata": {},
   "outputs": [],
   "source": [
    "#Vi programmerer Herons metode for å finne kvadratrøtter\n",
    "#programmet trenger:      Ett tall a > 0 (den vi skal finne startverdi til)\n",
    "#                         Andre ting??\n"
   ]
  },
  {
   "cell_type": "markdown",
   "metadata": {},
   "source": [
    "Nå er målet at vi gjør kode gjenbrukbar, dvs. vi vil lage en funksjon <code>min_Heron</code> som kan brukes for å beregne tilnærmingsverdier til forskjellige tall gitt tallet, en startverdi og en tolerans."
   ]
  },
  {
   "cell_type": "code",
   "execution_count": null,
   "metadata": {},
   "outputs": [],
   "source": [
    "#Plass for ditt svar, lag en funksjon som gjør det beskrevet over"
   ]
  },
  {
   "cell_type": "code",
   "execution_count": null,
   "metadata": {},
   "outputs": [],
   "source": [
    "#Vi tester funksjonen min_Heron\n",
    "min_Heron(5,2,0.0001)"
   ]
  }
 ],
 "metadata": {
  "kernelspec": {
   "display_name": "Python 3",
   "language": "python",
   "name": "python3"
  },
  "language_info": {
   "codemirror_mode": {
    "name": "ipython",
    "version": 3
   },
   "file_extension": ".py",
   "mimetype": "text/x-python",
   "name": "python",
   "nbconvert_exporter": "python",
   "pygments_lexer": "ipython3",
   "version": "3.7.4"
  }
 },
 "nbformat": 4,
 "nbformat_minor": 4
}
