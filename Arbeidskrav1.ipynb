{
 "cells": [
  {
   "cell_type": "markdown",
   "metadata": {},
   "source": [
    "# Arbeidskrav 1\n",
    "\n",
    "Arbeidskrav 1 dreier seg om programmering i Python. Oppgavene finner du nede i dette Jupyternotat. \n",
    "* Fyll ut cellene reservert for svarene. \n",
    "* Merk at det fins noen celler som sier at du skulle ikke forendre dem, det mener vi! IKKE rør på disse!.\n",
    "* Før du leverer besvarelsen din, sjekk hvis den kjøres uten feil. For dette klikk i menyen over på *Kernel* og velg menypunkt *Restart & Run all*. Hvis alt kjøres uten at du får noen feilmelding (og har sett inn dine besvarelsene før det) kan du levere.\n",
    "* Ferdigutfyllt notat leveres i Canvas (sjekk Canvas når den bør leveres). \n",
    "\n",
    "Vi begynner med en enkel **oppgave**: Bruk Python funksjoner for å skrive ut navnet ditt på skjermen."
   ]
  },
  {
   "cell_type": "code",
   "execution_count": null,
   "metadata": {},
   "outputs": [],
   "source": [
    "#Skriv din kode her"
   ]
  },
  {
   "cell_type": "markdown",
   "metadata": {},
   "source": [
    "## Oppgave 1 (fra Matematikk 1T s. 18)\n",
    "\n",
    "Vi ser på noen kode som kan primtallsfaktorisere et gitt naturlig tall. Men først trenger vi litt kunnskap om en operasjon <code>%</code> som heter **modulus**. \n",
    "\n",
    "(a) Se på følgende utregninger i Python og forklar hva modulus gjør i egne ord (dere kan selvfølgelig gjerne bruke nettressurs for deres forklaring, men angi dem dere har brukt)"
   ]
  },
  {
   "cell_type": "code",
   "execution_count": null,
   "metadata": {},
   "outputs": [],
   "source": [
    "#Vi ser på noen eksempler for utregninger ved bruk av modulus\n",
    "#Ikke endre koden i cellen, det er tenkt som et hjelpemiddle for deg! Trykk SHIFT + ENTER\n",
    "\n",
    "print( '4 % 2 = ',4 % 2 , ',   4 % 3 = ' , 4%3,',   4 % 4 = ' , 4%4 ,',   4 % 5 = ' , 4%5)\n",
    "print( '5 % 2 = ',5 % 2 , ',   5 % 3 = ' , 5%3,',   5 % 4 = ' , 5%4 ,',   5 % 5 = ' , 4%5)"
   ]
  },
  {
   "cell_type": "markdown",
   "metadata": {},
   "source": [
    "**Cellen for dine forklaringer (dobbeltklikk her for å skrive noe)**"
   ]
  },
  {
   "cell_type": "markdown",
   "metadata": {},
   "source": [
    "(b) Se på kodesnutten under og forklar linje for linje med kommentar hva skjer i hver linje (tomte linjer må ikke kommenteres)."
   ]
  },
  {
   "cell_type": "code",
   "execution_count": null,
   "metadata": {},
   "outputs": [],
   "source": [
    "print(\"Dette programmet primtallsfaktoriserer 630.\")\n",
    "\n",
    "tall = 630\n",
    "\n",
    "for faktor in range(2, 630): \n",
    "    while (tall % faktor == 0):\n",
    "        print(\"630 har faktoren:\", faktor)\n",
    "        tall = tall / faktor"
   ]
  },
  {
   "cell_type": "markdown",
   "metadata": {},
   "source": [
    "(c) Gi en kort forklaring om hvorfor programmen beregner primtallsfaktorisering av 630."
   ]
  },
  {
   "cell_type": "markdown",
   "metadata": {},
   "source": [
    "**Cellen for dine forklaringer (dobbeltklikk her for å skrive noe)**"
   ]
  },
  {
   "cell_type": "markdown",
   "metadata": {},
   "source": [
    "(d) Ta utgangspunkt i programmen som ligger i (b) og skriv en programm som oppfordrer brukeren til å taste inn et tall og deretter beregner primtallsfaktorisering av tallet deretter.\n",
    "\n",
    "Tips: \n",
    "* Kopier kode fra codecellen over og forandre den trinn for trinn til den gjør hva du ønsker\n",
    "* Se på Python funksjon <code>input()</code> og husk at vi kan omdanne streng til integer.\n",
    "* Det kan være lurt å endre de ting som står i <code>print()</code>-kommando i koden hvis det passer ikke til det du har programmert..."
   ]
  },
  {
   "cell_type": "code",
   "execution_count": null,
   "metadata": {},
   "outputs": [],
   "source": [
    "#Skriv din kode her"
   ]
  },
  {
   "cell_type": "markdown",
   "metadata": {},
   "source": [
    "## Oppgave 2 (Collatz' problem)\n",
    "\n",
    "Collatz' problem er et uløst tallproblem som ble fremsatt av den tyske matematikeren Lothar Collatz i 1937. Dette kan formuleres som følgende:\n",
    "\n",
    "---\n",
    "**_Collatz algoritme_**\n",
    "\n",
    "Velg et vilkårlig naturlig tall $n$:\n",
    "- Hvis tallet er partall, del tallet med $2$ og fortsett med tallet $n/2$.\n",
    "- Hvis tallet er et oddetall, gang tallet med $3$ og pluss på $1$, dvs. fortsett med $3n+1$.\n",
    "\n",
    "Repeter prosessen til tallet ender på $1$. \n",
    "\n",
    "---\n",
    "Collatz' formodning er at alle naturlige tall som velges som startverdi vil ende på $1$.\n",
    "\n",
    "(a) Utfør Collatz algoritme som gitt over for $n=5$ (på papir, men skriv tallsekvens du får i cellen under)."
   ]
  },
  {
   "cell_type": "markdown",
   "metadata": {},
   "source": [
    "**Cellen for dine forklaringer (dobbeltklikk her for å skrive noe)**"
   ]
  },
  {
   "cell_type": "markdown",
   "metadata": {},
   "source": [
    "(b) Lag en <code>while</code>-løkke i Python som beregner for $n=5$ tallsekvensen i Collatz' algorime.\n",
    "\n",
    "Tips: \n",
    "- Det fins flere muligheter for å lage en slik løkke. Spørsmål er hva den skulle sjekke for å slutte med løkken.\n",
    "- Et tall $n$ er et partall hvis det er delelig med 2, dvs. hvis <code> n % 2</code> er lik $0$ (se Oppgave 1!)"
   ]
  },
  {
   "cell_type": "code",
   "execution_count": null,
   "metadata": {},
   "outputs": [],
   "source": [
    "#ikke endre linjene 2 og 3\n",
    "n = 5 \n",
    "print('Vi bruker en while-løkke for å skrive ut Collatz sekvens for n=5')  \n",
    "#Ikke endre linjene over!\n",
    "    \n",
    "#Skriv din kode her"
   ]
  },
  {
   "cell_type": "markdown",
   "metadata": {},
   "source": [
    "(c) Under ser du en funksjonsdefinisjon i Python av en funksjon <code>minCollatz()</code>. Desverre har noen glemt å sette inn programmkode i funksjonen så det gjør nå akkurat ingenting.\n",
    "Hjelp med det og sett inn programmkode slik at minCollatz(x) skriver ut tallene fra Collatz' tallsekvens for $x$ inntil den har kommet til $1$."
   ]
  },
  {
   "cell_type": "code",
   "execution_count": null,
   "metadata": {},
   "outputs": [],
   "source": [
    "def minCollatz (x):\n",
    "    #Lag en forklaring her i kommentar hva funksjonen minCollatz gjør\n",
    "    \n",
    "    #Skriv din kode her"
   ]
  },
  {
   "cell_type": "markdown",
   "metadata": {},
   "source": [
    "Test deretter funksjonen med eksempler som er gitt under"
   ]
  },
  {
   "cell_type": "code",
   "execution_count": null,
   "metadata": {},
   "outputs": [],
   "source": [
    "#Ikke endre noe i cellen, dette er bare for å teste den funksjon du har laget\n",
    "#Test 1\n",
    "minCollatz(5)   #Vi kjenner tallsekvens fra (a)\n",
    "\n",
    "#Test 2\n",
    "minCollatz(7)  #Forvented resultat: 7,22,11,34,17,52,26,13,40,20,10,5,16,8,4,2,1\n",
    "\n",
    "#Test 3\n",
    "minCollatz(13) #Forvented resultat: 13,40,20,10,5,16,8,4,2,1"
   ]
  },
  {
   "cell_type": "markdown",
   "metadata": {},
   "source": [
    "(d) Som vi ser i (c) ender Collatz' tallsekvenser (hvis de ender) alltid med $4 - 2 - 1$. Forklar hva skjer hvis man fortsetter Collatz' algoritme etter man har kommet til $1$.<br /> Deretter tar stilling til Ole Brumm som sier (i boka **Ole Brumm og den matemagiske skogen**): \n",
    "\n",
    "*Det er ikke god nok å kjøre Collatz' algoritmen inntil vi har kommet til 1,<br />\n",
    " vi må sjekke at de siste 3 tall vi har i tallsekvensen er 4 - 2 - 1*"
   ]
  },
  {
   "cell_type": "markdown",
   "metadata": {},
   "source": [
    "**Cellen for dine forklaringer (dobbeltklikk her for å skrive noe)**"
   ]
  },
  {
   "cell_type": "markdown",
   "metadata": {},
   "source": [
    "## Oppgave 3\n",
    "\n",
    "Jeg kan aldri huske når et år er et skuddår selv om det fins ganske enkle regler for det (se tabellen under). Lag en funksjon <code>skuddtest()</code> som finner ut for oss hvis et år er et skuddår og skriver det ut på skjermen.\n",
    "\n",
    "Merk: Hvis vi lager funksjoner vil vi gjerne at de kommer med noen kommentar i funskjonen som forklarer hva funksjonen gjør og hvilke variabler den tar imot eller gir tilbake (om det fins noen den tar).\n",
    "\n",
    "#### Skuttår? Regler avhengig av årstall\n",
    "\n",
    "Årstall            |  Skuddår?\n",
    "------------------ |  ------------------- \n",
    "ikke delig med $4$ |  ikke skuddår             \n",
    "delelig med $4$    |  skuddår             \n",
    "delelig med $100$  |  ikke skuddår     \n",
    "delelig med $400$  |  skuddår\n",
    "\n",
    "Merk at reglene soms tår videre nede er sterkere enn de som står høyre oppe. Dvs. $1900$ er ikke et skuddår siden den er delelig med $100$ (og ikke delelig med $400$) mens den er delelig med $4$."
   ]
  },
  {
   "cell_type": "code",
   "execution_count": null,
   "metadata": {},
   "outputs": [],
   "source": [
    "def skuddtest (arstall): #Ikke endre navn til funskjon vi trenger den i neste cellen\n",
    "\n",
    "    #Skriv din kode her og lag funskjonen skuddtest! Husk å trykke SHIFT+ENTER for å kjøre "
   ]
  },
  {
   "cell_type": "code",
   "execution_count": null,
   "metadata": {},
   "outputs": [],
   "source": [
    "#Ikke endre noe i cellen, vi bruker det som en test for funskjonen din\n",
    "skuddtest(1900)             #ikke skuddår\n",
    "skuddtest(2000)             #skuddår\n",
    "skuddtest(2004)             #skuddår\n",
    "skuddtest(2022)             #ikke skuddår"
   ]
  },
  {
   "cell_type": "markdown",
   "metadata": {},
   "source": [
    "# Oppgave 4\n",
    "\n",
    "I denne oppgaven bryr vi oss om **pytagoreiske trippler**. Tre naturlige tall $a < b < c$, slik at $$a^2 + b^2 = c^2$$\n",
    "gjelder.\n",
    "For eksempel $3^2 + 4^2 = 9 + 16 = 25 = 5^2$ og dermed er $(3,4,5)$ et pytagoreisk trippel.\n",
    "Vi kaller dem pytagoreiske trippel fordi en trekant med sidene på lengde $(a,b,c)$ er rettvinklet. Se [Wikipedia: Pytagoreisk trippel](https://no.wikipedia.org/wiki/Pytagoreisk_trippel) \n",
    "\n",
    "Det er kjent at det fins bare ett pytagoreisk trippel slik at $a+b+c =1000$. \n",
    "Oppgaven din er å bruke Python for å finne den pytagoreisk trippel som har den nevnte egenskap, dvs. finn naturlige tallene $0 < a < b < c < 1000$ slik at \n",
    "$$a+b+c=1000 \\text{ og } a^2 + b^2 = c^2$$\n",
    "Etter du har funnet tallene beregn produkten $a\\cdot b\\cdot c$.\n",
    "\n",
    "Tips: \n",
    "- Merk: Vi må velge minst to tall mellom $1$ og $999$ før vi kunne bestemme et pytagoreisk trippel (hvorfor?)\n",
    "- Datamaskiner er ganske bra å gjenta ting ved hjelp av løkker. Mens du kan ikke teste alle tallene mellom $1$ og $999$ kan datamaskinen gjøre det (i under et sekund). \n",
    "- Før du programmerer lag en plan på papir. Hvordan kan vi oversette likninger $a,b,c$ må oppfylle til noe Python klarer å sjekke?\n",
    "- Hvis du har behov for en kvadratrotfunksjon: <code>math</code> biblioteket har en funksjon som heter <code>sqrt()</code> og kan hjelpe med det."
   ]
  },
  {
   "cell_type": "code",
   "execution_count": null,
   "metadata": {},
   "outputs": [],
   "source": [
    "#Skriv din kode her, kjør den ved å trykke på SHIFT + ENTER"
   ]
  }
 ],
 "metadata": {
  "kernelspec": {
   "display_name": "Python 3",
   "language": "python",
   "name": "python3"
  },
  "language_info": {
   "codemirror_mode": {
    "name": "ipython",
    "version": 3
   },
   "file_extension": ".py",
   "mimetype": "text/x-python",
   "name": "python",
   "nbconvert_exporter": "python",
   "pygments_lexer": "ipython3",
   "version": "3.7.4"
  }
 },
 "nbformat": 4,
 "nbformat_minor": 4
}
