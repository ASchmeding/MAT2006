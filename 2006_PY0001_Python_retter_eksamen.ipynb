{
 "cells": [
  {
   "cell_type": "markdown",
   "metadata": {},
   "source": [
    "# Hvordan kan vi styre et program?\n",
    "\n",
    "Ofte i programmering ønsker vi at datamaskinen sjekker noe og utfører kode basert på resultatet av testen den har kjørt. \n",
    "\n",
    "### Eksempel\n",
    "\n",
    "Antar at vi har lagt en eksam og ville bruke datamaskinen for å avgjøre om poengsummen personen har er tilstrekkelig for å stå på eksamen.\n",
    "\n",
    "La oss si at det fins $100$ poeng i eksamen, slik at\n",
    "\n",
    "|Poengsum|Resultat?|\n",
    "|--------|---------|\n",
    "|mindre enn 40 | ikke bestått|\n",
    "|mer eller lik 40 | bestått|\n",
    "\n",
    "### Spørsmål er: kan Python sjekke for oss om kandidaten tjener (ikke) bestått? "
   ]
  },
  {
   "cell_type": "code",
   "execution_count": null,
   "metadata": {},
   "outputs": [],
   "source": [
    "poengsum = 50  #Vi definerer en variabel som kalles for poengsum \n",
    "               #Python skal sjekke senere om poengsummen er høy nok"
   ]
  },
  {
   "cell_type": "markdown",
   "metadata": {},
   "source": [
    "Vi har sett at Python kan mange ting en kalkulator kan. For eksempel kan vi legge sammen tall og regne med dem. La oss sjekke hva skjer om vi ber Python å sammenlikne to uttrykk.\n",
    "For eksempel kan vi jo spørre Python om <code>poengsum</code> er mindre enn grensen for å få bestått."
   ]
  },
  {
   "cell_type": "code",
   "execution_count": null,
   "metadata": {},
   "outputs": [],
   "source": [
    "poengsum < 40"
   ]
  },
  {
   "cell_type": "markdown",
   "metadata": {},
   "source": [
    "<details>\n",
    "    <summary>Vi ser at Python sjekker uttrykk.</summary>\n",
    "    \n",
    "Det vil si at Python sammenlikner de to tall (poengsums verdi er for nå $50$) og grensen $40$. Vi har spurt om $poengsum = 50 < 40$. Siden $50$ er større er resultatet av uttrykk <code>False</code> (usant). Dermed sjekker Python om uttrykket er sant eller ikke sant og skriver det ut som en boolsk variabel (True eller False)\n",
    "</details>"
   ]
  },
  {
   "cell_type": "markdown",
   "metadata": {},
   "source": [
    "Nå må vi bare lære oss hvordan Python kan bruke informasjon fått fra sammenlikning av de to tall for å gjøre noe. Nøkkelord er har at Python skal sjekke \"hvis\" noe er sant. På engelsk sier man ikke \"hvis\" men \"if\" og dette gir navn til konstruksjonen vi skal lære om nå.\n",
    "\n",
    "## if-vilkår\n",
    "\n",
    "Se på kodeblokk som følger nå å prøv å avgjøre hva den gjør og hvorfor."
   ]
  },
  {
   "cell_type": "code",
   "execution_count": null,
   "metadata": {},
   "outputs": [],
   "source": [
    "if poengsum < 40:\n",
    "    print(\"eksamen er ikke bestått\")\n",
    "    \n",
    "if poengsum > 39:\n",
    "    print(\"eksamen er bestått\")"
   ]
  },
  {
   "cell_type": "markdown",
   "metadata": {},
   "source": [
    "Mer informasjon om vilkår fins i JuPyter notat *PY0101No-3-1-Vilkår.ipynb*."
   ]
  }
 ],
 "metadata": {
  "kernelspec": {
   "display_name": "Python 3",
   "language": "python",
   "name": "python3"
  },
  "language_info": {
   "codemirror_mode": {
    "name": "ipython",
    "version": 3
   },
   "file_extension": ".py",
   "mimetype": "text/x-python",
   "name": "python",
   "nbconvert_exporter": "python",
   "pygments_lexer": "ipython3",
   "version": "3.7.4"
  }
 },
 "nbformat": 4,
 "nbformat_minor": 2
}
