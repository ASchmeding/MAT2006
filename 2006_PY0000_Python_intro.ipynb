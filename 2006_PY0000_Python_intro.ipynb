{
 "cells": [
  {
   "cell_type": "markdown",
   "metadata": {},
   "source": [
    "<!-- dom:TITLE: Introduksjon til Python og Jupyternotater   -->\n",
    "# Introduksjon til Python og Jupyternotater\n",
    "<!-- dom:AUTHOR: A. Schmeding -->\n",
    "<!-- Author: -->  \n",
    "**Alexander Schmeding**\n",
    "\n",
    "Date: **Jan, 2022**\n",
    "\n",
    "# Innledning\n",
    "\n",
    "I dette kurset skal vi lære programmering med Python og hvordan man kunne bruke det for å løse matematiske problemer. Vi skal jobbe med Jupyternotater (også kalles Jupyter notebook) og det er det vi ser på nå.\n",
    "\n",
    "I dette notatet er det en kort introduksjon til de viktigste konstruksjonene for bruk av Python. For å kjøre notater trenger vi noen programmvare som kan forstår Python programmeringsspråket. \n",
    "Det fins en god programmvare helt kostnadsfritt på nett som heter **Anaconda**. \n",
    "Det lastes ned her:\n",
    "\n",
    "<a href=\"https://www.anaconda.com/products/individual\">Anaconda download page</a>\n",
    "\n",
    "\n",
    "\n",
    "# Hvordan bruker man Jupyternotater?\n",
    "\n",
    "Et Jupyternotat består av celler. Disse kan enten ha tekst (som denne du leser nå), eller kode (som vist under i neste cell). Så fort du har kopiert notatet over til ditt eget domene, er du fri til å endre både tekst og kode. Du kan gjerne eksperimentere med koden. Du kan også lage nye celler, med egne notater eller egen kode. Det er ikke mulig å ødelegge noe. Hvis notaten er i stykker, bare ta en ny kopi og begynn på nytt!\n",
    "\n",
    "Etter du har åpnet din første notebook, anbefaler vi at du gjøre deg kjent med den Jupyter miljø.  \n",
    "Se på tool menu og sjekk ut hva er opsjoner. Det fins mange snarveier på tastatur (se på Help -> Keyboard Shortcuts), de gjør livet enklere hvis du vet om de.\n",
    "\n",
    "Vi begynner nå: Innunder finner du et kort eksempel på en celle med kode. Hvis du trykker **shift+enter** eller bruk `Run` fra menuen kjører den."
   ]
  },
  {
   "cell_type": "code",
   "execution_count": null,
   "metadata": {},
   "outputs": [],
   "source": [
    "a = 1\n",
    "b = 2\n",
    "c = a+b\n",
    "print(c)"
   ]
  },
  {
   "cell_type": "markdown",
   "metadata": {},
   "source": [
    "Når du har kjørt en celle med kode er dataene bevart og kan brukes igjen. "
   ]
  },
  {
   "cell_type": "code",
   "execution_count": null,
   "metadata": {},
   "outputs": [],
   "source": [
    "print(a, b)"
   ]
  },
  {
   "cell_type": "markdown",
   "metadata": {},
   "source": [
    "Vi kan bruke Jupyternotater som kalkulator. Prøv følgende beregninger"
   ]
  },
  {
   "cell_type": "code",
   "execution_count": null,
   "metadata": {},
   "outputs": [],
   "source": [
    "d = 41.0                      #OBS: Kommatall tastes inn ved bruk av en punkt ikke en komma! \n",
    "d = d+1\n",
    "print(d, d/2)                 # '/' betyr divisjon\n",
    "print(2**2, 2**3, 2**4)       #'**' betyr potens IKKE multiplikasjon"
   ]
  },
  {
   "cell_type": "markdown",
   "metadata": {},
   "source": [
    "### Oppgave\n",
    "Hva tror du er resultatet av følgende kode blir?"
   ]
  },
  {
   "cell_type": "code",
   "execution_count": null,
   "metadata": {},
   "outputs": [],
   "source": [
    "a = 2 \n",
    "a = a+1\n",
    "b =2*a\n",
    "\n",
    "print(b)"
   ]
  },
  {
   "cell_type": "markdown",
   "metadata": {},
   "source": [
    "Hva er resultatet av følgende kode?"
   ]
  },
  {
   "cell_type": "code",
   "execution_count": null,
   "metadata": {},
   "outputs": [],
   "source": [
    "cos(pi) \n",
    "exp(1)"
   ]
  },
  {
   "cell_type": "markdown",
   "metadata": {},
   "source": [
    "Noe gikk galt med siste cell, vi har fått en feil. Merk at Python prøver å forklare hva problemet er. Som du kan se, sier det:\n",
    "\n",
    "**NameError: name 'cos' is not defined**\n",
    "\n",
    "Problemen er at Python vet ingenting om kosinus eller logarithmer! Disse funksjoner er byggd inn i de fleste kalkulatorer, men man må *forklare* eller laste de inn for Python. Vi skal lære om dette nå.\n",
    "    \n",
    "## Numeriske beregninger i Python:\n",
    "\n",
    "Implementering av beregninger og numeriske algoritmer behøver ikke være veldig komplisert, de krever stort sett følgende: \n",
    "\n",
    "* Funksjoner \n",
    "* Løkker, særlig for-løkker.  \n",
    "* Visualisering av resultater.\n",
    "\n",
    "I dette notatet er det _veldig kort_ forklart hvordan disse brukes. \n",
    "\n",
    "Vi trenger tre moduler:   \n",
    "* [math:](https://docs.python.org/3/library/math.html) mange matematiske funksjoner, f.eks. cos, sin, log.\n",
    "* [Numpy:](http://www.numpy.org) Arrays (matriser og vektorer), og de vanlige matematiske funksjonene. \n",
    "* [Matplotlib:](https://matplotlib.org) Grafer og figurer.  \n",
    "\n",
    "I notatene i dette kurset, vil den aller første cellen med kode se omtrent ut som den under. Nødvendige moduler og funksjoner må importeres først. "
   ]
  },
  {
   "cell_type": "code",
   "execution_count": null,
   "metadata": {},
   "outputs": [],
   "source": [
    "import math                        #Importerer matematisk bibliotek\n",
    "\n",
    "print(math.cos(math.pi))           #Beregner Kosinus av Pi og viser den   "
   ]
  },
  {
   "cell_type": "markdown",
   "metadata": {},
   "source": [
    "Hva har skjedd nå? Vi har importert math modulen og derfor vet Python nå om Kosinus, men det er ikke mulig ennå å skrive bare 'cos' for å bruke Kosinus funksjon. Vi har skrevet 'math.cos' fordi Kosinus er medlem i math modulen (og den prefix 'math.' forklarer til Python hvor den kunne finne funksjon Kosinus). Det samme gjelder for PI = 3.1415... som er en konstant definert i math modulen.\n",
    "\n",
    "Det ser veldig slitsom ut å skrive altid math.*** hvis man vil bruke funksjoner. Hvis man vil ikke det kan man også importere moduler på følgende måte: "
   ]
  },
  {
   "cell_type": "code",
   "execution_count": null,
   "metadata": {},
   "outputs": [],
   "source": [
    "# Importer nødvendige moduler\n",
    "%matplotlib inline \n",
    "from math import *                        #Importerer math modulen så at man kan bare bruke cos istedet av math.cos\n",
    "\n",
    "cos(pi)"
   ]
  },
  {
   "cell_type": "markdown",
   "metadata": {},
   "source": [
    "Hvorfor bruker man de to forskjellige måter for å importere moduler? Problemen er at ulike pakker kunne har funksjoner med samme navn. F.eks. det fins math.cos og også en pakke som kalles 'cmath'-pakke med en funksjonen som heter cmath.cos. (cmath implementerer Kosinus for komplekse tall og vi skal ikke forklare det og har ikke behov for det). Derfor kan de være lurt å laste inn pakker med kortere navn. Det kan man gjøre på følgende måte:"
   ]
  },
  {
   "cell_type": "code",
   "execution_count": null,
   "metadata": {
    "scrolled": true
   },
   "outputs": [],
   "source": [
    "# Importer modul 'math' men vi skal bruke m.cos i steden av math.cos\n",
    "import math as m\n",
    "m.cos(m.pi)"
   ]
  },
  {
   "cell_type": "markdown",
   "metadata": {},
   "source": [
    "## Importer nødvendige moduler i Python:\n",
    "\n",
    "Vanligvis bruker vi bare reelle tall, så vi må ofte ikke bry oss så mye om forskellige funksjoner. Så vi bare laster inn alle nødvendige moduler med import. Nødvendige moduler og funksjoner importeres og Jupyter gjøres klar for å vise plott i notatet. Denne cellen skal kjøres før noe annen kode i notatet. "
   ]
  },
  {
   "cell_type": "code",
   "execution_count": null,
   "metadata": {},
   "outputs": [],
   "source": [
    "# Importer nødvendige moduler, og sett parametre for plotting. \n",
    "# Dette må alltid kjøres først!\n",
    "%matplotlib inline    \n",
    "from math import *\n",
    "from numpy import *               \n",
    "from matplotlib.pyplot import *   \n",
    "\n",
    "# De neste linjene setter parametre for plotting. \n",
    "# Parameterne her kan gjerne endres\n",
    "newparams = {'figure.figsize': (8.0, 4.0), 'axes.grid': True,\n",
    "             'lines.markersize': 8, 'lines.linewidth': 2,\n",
    "             'font.size': 16}\n",
    "rcParams.update(newparams)"
   ]
  },
  {
   "cell_type": "markdown",
   "metadata": {},
   "source": [
    "### Numpy: \n",
    "Numpy er en nyttig modul som inneholder mange funskjoner vi trenger for matematikk. Vi skal se nærmere på det når vi trenger det (og der får det sin egen introduksjons notatbok)"
   ]
  },
  {
   "cell_type": "markdown",
   "metadata": {},
   "source": [
    "### Matplotlib\n",
    "Matplotlib er modulen som har med masse opsjoner for å tegne grafer eller lignende ved bruk av Python. La oss rett og slett demonstrere enkel bruk av Matplotlib ved hjelp av et eksempel: \n",
    "\n",
    "Plott funksjonene \n",
    "\n",
    "$$ f(x) = x^2 + 2x \\qquad \\text{og} \\qquad g(x) = 2x\\sin(2\\pi x) $$\n",
    "\n",
    "på intervallet $-1 \\leq x \\leq 1$. "
   ]
  },
  {
   "cell_type": "code",
   "execution_count": null,
   "metadata": {},
   "outputs": [],
   "source": [
    "x = linspace(-1, 1, 101)      # Lager 'x-aksen' ved bruk av linspace (linspace kommer fra Numpy modul)\n",
    "f = x**2 + 2*x\n",
    "g = 2*x*sin(2*pi*x)\n",
    "plot(x, f, 'r--')             # Plott f, rød stiplet kurve\n",
    "plot(x, g, 'b-')              # Plott g, blå heltrukken kurve \n",
    "xlabel('x')\n",
    "ylabel('y')\n",
    "title('Plott av funksjonene f og g')\n",
    "legend(['f(x)', 'g(x)']);"
   ]
  },
  {
   "cell_type": "markdown",
   "metadata": {},
   "source": [
    "### Løkker og funksjoner (for de som kan alrede programmere)\n",
    "\n",
    "De følgende kommentar er rettet mot dem som kan alrede programmere. Vi skal forklare konseptene senere i sine egne introduksjoner (i prinsippet kan man også forstå det som skjer her som en oppsummering av det vi skal se på senere) \n",
    "Det finnes ikke noe `end`-type setning i Python. \n",
    "Innholdet i funksjoner eller kontrollstrukturer markeres med innrykk. Når innrykket er avsluttet, er funksjonen eller kontrollstrukturen avsluttet.\n",
    "\n",
    "Nedenfor er for-løkker og funksjoner demonstrert med små eksempler. \n",
    "\n",
    "### for-løkker\n",
    "En celle med ei  `for`-løkke kan f.eks. se slik ut: "
   ]
  },
  {
   "cell_type": "code",
   "execution_count": null,
   "metadata": {},
   "outputs": [],
   "source": [
    "x = array([1.3, 4.6, 2.1, -5.8])\n",
    "n = len(x)                                             #Lengden av array x.\n",
    "print('n = ', n, '\\n')\n",
    "for i in range(n):\n",
    "    print('i = ', i, ', x = ', x[i])\n",
    "print('\\n Og dette avslutter løkka')"
   ]
  },
  {
   "cell_type": "markdown",
   "metadata": {},
   "source": [
    "Legg merke til at konstruksjonen `for i in range(n)` tilsvarer $i=0,1,\\dotsc,n-1$.\n",
    "\n",
    "Utskriften i siste løkke kan også skrives ut penere ved bruk av `.format` kommandoen: "
   ]
  },
  {
   "cell_type": "code",
   "execution_count": null,
   "metadata": {},
   "outputs": [],
   "source": [
    "print('n = ', n, '\\n')\n",
    "for i in range(n):\n",
    "    print('i = {:2d}, x = {:6.2f}'.format(i, x[i]))    # Formattert utskrift\n",
    "print('\\nOg dette avslutter løkka')"
   ]
  },
  {
   "cell_type": "markdown",
   "metadata": {},
   "source": [
    "### while-løkker\n",
    "Python har også kommandoer for `while`-løkker. Neste løkke trykker ut naturlig tall mindre en $6$."
   ]
  },
  {
   "cell_type": "code",
   "execution_count": null,
   "metadata": {},
   "outputs": [],
   "source": [
    "k = 1\n",
    "while k < 6:        #Betingelsen avsluttes med colon\n",
    "  print(k) \n",
    "  k += 1            #Snarvei for kommandoen k = k+1"
   ]
  },
  {
   "cell_type": "markdown",
   "metadata": {},
   "source": [
    "### Funksjoner\n",
    "Dere kan også bygge funksjoner i Python. Vi viser hvordan man gjør dette i en eksemple.\n",
    "\n",
    "Kast en ball opp i lufta. Ignorer luftmotstand. Hvis utgangshastigheten er $v_0$ så vil ballens høyde og hastighet være gitt ved\n",
    "\n",
    "\\begin{align}\n",
    "    y(t) &= v_0t - \\frac{1}{2} g t^2 && \\text{høyde} \\\\\n",
    "    v(t) &= v_0 - gt && \\text{hastighet}\n",
    "\\end{align}\n",
    "\n",
    "hvor $g$ er gravitasjonskonstanten. I Python kan denne funksjonen skrives som:"
   ]
  },
  {
   "cell_type": "code",
   "execution_count": null,
   "metadata": {},
   "outputs": [],
   "source": [
    "def ball(t, v0=0, g=9.81):\n",
    "    y = v0*t - 0.5*g*t**2\n",
    "    v = v0 - g*t\n",
    "    return y, v"
   ]
  },
  {
   "cell_type": "markdown",
   "metadata": {},
   "source": [
    "Hvor $v_0$ og $g$ er satt som standardverdier (defaults). \n",
    "\n",
    "Her følger noen eksempler for bruk av denne funksjonen: \n",
    "\n",
    "Hva er hastighet og posisjon etter 2 sekunder, når utgangshastigheten er 0?"
   ]
  },
  {
   "cell_type": "code",
   "execution_count": null,
   "metadata": {},
   "outputs": [],
   "source": [
    "t = 2.0\n",
    "y1, v1 = ball(t)        # etter 2 sekunder, ingen utgangshastighet\n",
    "print('v0=',0.0,',  t=', t, ',  y=', y1, ',   v=', v1)"
   ]
  },
  {
   "cell_type": "markdown",
   "metadata": {},
   "source": [
    "Hva er hastighet og posisjon etter 2 sekunder, når utgangshastigheten er 1 m/s? "
   ]
  },
  {
   "cell_type": "code",
   "execution_count": null,
   "metadata": {},
   "outputs": [],
   "source": [
    "v_start = 1.0\n",
    "y2, v2 = ball(t, v0=v_start)  # etter 2 sekunder, med v0=1 m/s\n",
    "print('v0=', v_start,',  t=', t, ',  y=', y2, ',   v=', v2)"
   ]
  },
  {
   "cell_type": "markdown",
   "metadata": {},
   "source": [
    "Og hva er hastighet og posisjon etter 2 sekunder, hvis du repeterer siste eksperiment på månen? "
   ]
  },
  {
   "cell_type": "code",
   "execution_count": null,
   "metadata": {},
   "outputs": [],
   "source": [
    "y3, v3 = ball(t, v0=v_start, g=1.625)  \n",
    "print('v0=', 1.0,',  t=', t, ',  y=', y3, ',   v=', v3, '  på månen.')"
   ]
  },
  {
   "cell_type": "markdown",
   "metadata": {},
   "source": [
    "#### Lambda-Funksjoner\n",
    "Noen ganger er det ganske slitsom å lage en ny funksjon ved bruk av syntaksen vi har lært nå. For eksempel hvis vi skal programmere den funksjonen \n",
    "$$f(x) = x^2+1$$\n",
    "er det ikke hensiktmessig at vi legger den inn på den måten vi hadde sett på. For dette fins en fortere metoden som kalles *lambda funskjon*. \n",
    "Denne typen funksjoner kalles også lambda-funksjon, siden de er definert ved hjelp av nøkkelordet labmda. En typisk lambda-funksjon er definert som følgende:\n",
    "\n",
    "```Python \n",
    "lambda argumentt:utrykk```\n",
    "\n",
    "det er mulig å legge inn flere argument men det kan være bare en utrykk.\n",
    "Så for eksempel hvis vi skal lage den funksjonen $f(x)=x^2+1$ så kan vi gjøre det på følgende måte:"
   ]
  },
  {
   "cell_type": "code",
   "execution_count": null,
   "metadata": {},
   "outputs": [],
   "source": [
    "minfun = lambda x : x**2+1  #Husk at ** er potens\n",
    "\n",
    "#Nå tester vi funksjonen \n",
    "print(minfun(0))\n",
    "print(minfun(-42))\n",
    "\n",
    "#lag grafen til minfun\n",
    "x = linspace(-1, 1, 101)             #Må lage først punkter for x-aksen\n",
    "f = minfun(x)\n",
    "plot(x, f, 'r')"
   ]
  },
  {
   "cell_type": "markdown",
   "metadata": {},
   "source": [
    "### Hjelp!\n",
    "\n",
    "* Ta en titt på meny-linja in Jupyter, se om du finner det du trenger der. \n",
    "* For hjelp for en python-funksjon, skriv ?funksjonsnavn. "
   ]
  },
  {
   "cell_type": "code",
   "execution_count": null,
   "metadata": {},
   "outputs": [],
   "source": [
    "?minfun"
   ]
  }
 ],
 "metadata": {
  "kernelspec": {
   "display_name": "Python 3",
   "language": "python",
   "name": "python3"
  },
  "language_info": {
   "codemirror_mode": {
    "name": "ipython",
    "version": 3
   },
   "file_extension": ".py",
   "mimetype": "text/x-python",
   "name": "python",
   "nbconvert_exporter": "python",
   "pygments_lexer": "ipython3",
   "version": "3.7.4"
  }
 },
 "nbformat": 4,
 "nbformat_minor": 4
}
